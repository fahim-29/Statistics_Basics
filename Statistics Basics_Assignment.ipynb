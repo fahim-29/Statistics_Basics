{
 "cells": [
  {
   "cell_type": "markdown",
   "id": "75ac1162-e7be-4762-8fdf-db557489882d",
   "metadata": {},
   "source": [
    "# Name         : Fahim  Ahmad\n",
    "# Assignment   : Statistics Basic\n",
    "# Module       : Module 01\n",
    "# Date         : June, 27, 2025"
   ]
  },
  {
   "cell_type": "code",
   "execution_count": null,
   "id": "327e2260-f6ad-47ff-964d-03cebc5beb0d",
   "metadata": {},
   "outputs": [],
   "source": []
  },
  {
   "cell_type": "markdown",
   "id": "13ab1fd1-981f-45b1-94be-490f98f26254",
   "metadata": {},
   "source": [
    "#### Q.1 What is statistics, and why is it important"
   ]
  },
  {
   "cell_type": "markdown",
   "id": "756cbb32-9c3d-4ced-a69f-e6299280bd8f",
   "metadata": {},
   "source": [
    "- **Statistics** is the branch of mathematics that deals with:\n",
    "\n",
    "- Collecting, organizing, analyzing, interpreting, and presenting data\n",
    "- It helps us make sense of data — to find patterns, draw conclusions, and make informed decisions.\n",
    "\n"
   ]
  },
  {
   "cell_type": "markdown",
   "id": "54eb65e9-4a93-4fe2-bc04-bf77840804ba",
   "metadata": {},
   "source": [
    "#### Q.2 What are the two main types of statistics"
   ]
  },
  {
   "cell_type": "markdown",
   "id": "2c31c381-58cd-4175-9bc2-9b0632d87b81",
   "metadata": {},
   "source": [
    "- #### Two Main Types of Statistics:\n",
    "\n",
    "- **Descriptive Statistics**\n",
    "- Summarizes data.\n",
    "- Examples: Mean, Median, Mode, Standard Deviation, Skewness.\n",
    "- Use: Helps describe what the data looks like.\n",
    "\n",
    "- **Inferential Statistics**\n",
    "- Makes predictions or decisions based on a sample of data.\n",
    "- Examples: Hypothesis testing, Confidence intervals, Regression.\n",
    "- Use: Helps draw conclusions about a population using sample data.\n",
    "\n"
   ]
  },
  {
   "cell_type": "markdown",
   "id": "7c850842-01d6-43c5-b17c-a8c1fcf33ceb",
   "metadata": {},
   "source": [
    "#### Q.3 What are descriptive statistics?"
   ]
  },
  {
   "cell_type": "markdown",
   "id": "5a3923c1-4758-431e-81d0-7869b4da7e7f",
   "metadata": {},
   "source": [
    "- **Descriptive** statistics is all about summarizing and describing the features of a dataset.\n",
    "- To organize, summarize, and present data in an informative way. It involves \n",
    "- Measures of Central Tendency: Mean (average), Median, Mod\n",
    "- Measures of Dispersion: Range, Variance, Standard Deviation\n",
    "- Graphs & Charts: Bar charts, Histograms, Pie charts, Boxplots\n",
    "- Example: You surveyed 100 students and calculated:\n",
    "- Average height = 165 cm\n",
    "- Most common height = 162 cm\n",
    "- Standard deviation = 5 cm\n",
    "\n",
    "\n",
    "\n"
   ]
  },
  {
   "cell_type": "markdown",
   "id": "44ba1ed9-e14e-4cf2-8115-51d9f7e644b5",
   "metadata": {},
   "source": [
    "#### Q.4 What is inferential statistics?"
   ]
  },
  {
   "cell_type": "markdown",
   "id": "041a77a5-7c45-4085-af85-f6e3a08f5de4",
   "metadata": {},
   "source": [
    "- Inferential statistics allows you to make predictions or generalizations about a population based on a sample of data.\n",
    "- To draw conclusions, make predictions, or test hypotheses about a population.\n",
    "- Hypothesis Testing (e.g., t-test, chi-square test)\n",
    "- Confidence Intervals\n",
    "- Regression Analysis\n",
    "- ANOVA (Analysis of Variance)\n",
    "- Probability distributions\n",
    "- Example: You surveyed 100 students from a college and found that 60% prefer online classes. You then infer that around 60% of all college students in India might prefer online classes.\n",
    "\n"
   ]
  },
  {
   "cell_type": "markdown",
   "id": "c5af408f-ea08-4c8e-a619-e82ccde2e643",
   "metadata": {},
   "source": [
    "#### Q.5 What is sampling in statistics?"
   ]
  },
  {
   "cell_type": "markdown",
   "id": "980dd8d1-b1b6-4d9a-9005-17c5a883a2f2",
   "metadata": {},
   "source": [
    "- Sampling is the process of selecting a small group (sample) from a larger group (population) to study and make conclusions about the whole population."
   ]
  },
  {
   "cell_type": "markdown",
   "id": "e42392d2-7f3b-48f1-9e66-8bf8b240c202",
   "metadata": {},
   "source": [
    "#### Q.6 What are the different types of sampling methods?"
   ]
  },
  {
   "cell_type": "markdown",
   "id": "dba5d60a-65b4-49ff-b6b7-e838296b1cc0",
   "metadata": {},
   "source": [
    "- **1.  Simple Random Sampling** : Every member of the population has an equal and independent chance of being selected.\n",
    "- Example:\n",
    "- You have a list of 1000 students, and you randomly pick 50 using a random number generator or lottery method.\n",
    "\n",
    "- **2.  Stratified Sampling** Divide the population into strata (groups) based on a certain characteristic (like age, gender, department), and then randomly sample from each group.\n",
    "- Example:\n",
    "- You want to survey students from all departments in a college. You divide them into departments (e.g., Science, Commerce, Arts), and randomly select 20 from each.\n",
    "\n",
    "- **3.   Systematic Sampling** Select every kth element from a population list, starting from a random point.\n",
    "- Example:\n",
    "- You want to survey every 10th person in a line of 500. Start at person #5, then #15, #25, and so on.\n",
    "\n",
    "- ** 4.  Cluster Sampling** Divide the population into clusters (usually based on location or groups), randomly select entire clusters, and survey everyone in those clusters.\n",
    "- Example:\n",
    "- A city has 50 schools. You randomly select 5 schools (clusters) and survey all students in those schools.\n",
    "\n"
   ]
  },
  {
   "cell_type": "markdown",
   "id": "bbdcf81c-667b-43be-86e0-48630a04ad13",
   "metadata": {},
   "source": [
    "#### Q.7 What is the difference between random and non-random sampling\u001d"
   ]
  },
  {
   "cell_type": "markdown",
   "id": "7ea49da1-9052-42e9-946d-3385e9fe2ae5",
   "metadata": {},
   "source": [
    "- In Random Sampling every individual or unit in the population has an equal and known chance of being selected.\n",
    "- Key Idea: No bias in selection — it's based on chance.\n",
    "- Example: You put 100 names in a hat and draw 10 randomly — any 10 can be selected, and it's purely chance-based.\n",
    "\n",
    "- In Non Random samling some individuals or groups have a higher chance of selection, based on human judgment, convenience, or quota.\n",
    "- Key Idea: Selection is intentional or based on criteria, not random chance.\n",
    "- Example: You choose 5 males and 5 females to make sure both genders are equally represented — even if it's not random."
   ]
  },
  {
   "cell_type": "markdown",
   "id": "6200a968-5341-4766-88f9-b3927892a7df",
   "metadata": {},
   "source": [
    "#### Q.8 Define and give examples of qualitative and quantitative data."
   ]
  },
  {
   "cell_type": "markdown",
   "id": "f13a146b-46d9-4a5a-956f-8bbdf4aa7c32",
   "metadata": {},
   "source": [
    "- **Quantitative Data (Also called Numerical Data)** is measurable and expressed in numbers. It answers questions like:\n",
    "- How much?\n",
    "- How many?\n",
    "- How often?\n",
    "\n",
    "- Numerical data represents numbers. It is divided into two groups: \n",
    "- discrete and continuous. Discrete data can be usually counted in a finite matter, while continuous is infinite and impossible to count.\n",
    "- Examples:- \n",
    "- Discrete: # children you want to have, SAT score\n",
    "- Continuous: weight, height\n",
    "\n",
    "-  **Qualitative Data (Also called Categorical Data)** : Qualitative data is descriptive and expressed in words or categories. It answers questions like:\n",
    "- What type?\n",
    "- What category?\n",
    "- What kind?\n",
    "- Nominal Data – Categories with no order\n",
    "- Example: Blood group (A, B, AB, O)\n",
    "- Ordinal Data – Categories with order or rank\n",
    "- Example: Customer satisfaction (Poor, Fair, Good, Excellent)"
   ]
  },
  {
   "cell_type": "markdown",
   "id": "20f070f5-4895-4ae4-be29-a759536aabf8",
   "metadata": {},
   "source": [
    "#### Q.9 What are the different types of data in statistics?"
   ]
  },
  {
   "cell_type": "markdown",
   "id": "a6661118-25b2-4b45-8e78-5ab6e2b9fd50",
   "metadata": {},
   "source": [
    "- **Quantitative Data (Also called Numerical Data)** is measurable and expressed in numbers. It answers questions like:\n",
    "- How much?\n",
    "- How many?\n",
    "- How often?\n",
    "\n",
    "- Numerical data represents numbers. It is divided into two groups: \n",
    "- discrete and continuous. Discrete data can be usually counted in a finite matter, while continuous is infinite and impossible to count.\n",
    "- Examples:- \n",
    "- Discrete: # children you want to have, SAT score\n",
    "- Continuous: weight, height\n",
    "\n",
    "-  **Qualitative Data (Also called Categorical Data)** : Qualitative data is descriptive and expressed in words or categories. It answers questions like:\n",
    "- What type?\n",
    "- What category?\n",
    "- What kind?\n",
    "- Nominal Data – Categories with no order\n",
    "- Example: Blood group (A, B, AB, O)\n",
    "- Ordinal Data – Categories with order or rank\n",
    "- Example: Customer satisfaction (Poor, Fair, Good, Excellent)"
   ]
  },
  {
   "cell_type": "markdown",
   "id": "f059553d-90b7-430d-912e-029d257e8397",
   "metadata": {},
   "source": [
    "#### Q.10 Explain nominal, ordinal, interval, and ratio levels of measurement"
   ]
  },
  {
   "cell_type": "markdown",
   "id": "a24e488d-a11f-4b28-870b-36cc23c01676",
   "metadata": {},
   "source": [
    "- **1. Nominal Scale** (Categorical – No Order) : Used for labeling variables without any order or ranking.\n",
    "- Categories only , No numerical meaning\n",
    "- Examples: Gender: Male, Female, Other\n",
    "- Blood group: A, B, AB, O\n",
    "- **Chart:**\n",
    "- Bar chart – to compare counts\n",
    "- Pie chart – to show proportions\n",
    "\n",
    "- **2. Ordinal Scale (Categorical – With Order)** Data is categorized and has a meaningful order, but the difference between values is not measurable.\n",
    "- Ordered categories Distance between values is unknown or not equal\n",
    "- Examples: Customer satisfaction: Poor, Fair, Good, Excellent\n",
    "- Education level: High School, Bachelor’s, Master’s, PhD\n",
    "- Bar chart – showing categories in logical order\n",
    "- Avoid pie charts (they ignore order)\n",
    "\n",
    "- **3. Interval Scale (Numerical – Equal Intervals, No True Zero)**  Numerical data with equal intervals between values, but no true zero point.\n",
    "- You can add/subtract values\n",
    "- Ratios are not meaningful (because zero is arbitrary)\n",
    "- Examples: Temperature in Celsius or Fahrenheit (0°C doesn’t mean “no temperature”)\n",
    "- IQ scores\n",
    "- Chart:\n",
    "- Histogram – to show distribution\n",
    "- Line chart – for trends over time\n",
    "-  Boxplot – to show spread, median, and outliers\n",
    "\n",
    "- **4. Ratio Scale (Numerical – True Zero, Full Math Possible)** Same as interval, but with a true zero point, which allows all mathematical operations including ratios.\n",
    "- Equal intervals\n",
    "- True zero = absence of the quantity\n",
    "- Can multiply, divide, compare ratios\n",
    "-  Examples: Height (0 cm = no height)\n",
    "- Weight (0 kg = no weight)\n",
    " Chart:\n",
    "- Histogram – to show distribution\n",
    "- Line chart – for trends over time\n",
    "-  Boxplot – to show spread, median, and outliers\n",
    "- Lind Chart - For trends over time \n",
    "\n"
   ]
  },
  {
   "cell_type": "markdown",
   "id": "e3d577df-c9d9-4e90-8b35-820c6609f16c",
   "metadata": {},
   "source": [
    "#### Q.11 What is the measure of central tendency?"
   ]
  },
  {
   "cell_type": "markdown",
   "id": "9f1d58e7-3362-4465-ba85-767d37522b67",
   "metadata": {},
   "source": [
    "- A Measure of Central Tendency is a statistical value that represents the center point or typical value of a dataset.\n",
    "- In short, it tells you:\n",
    "- \"Where is the middle of the data?\" or\n",
    "- \"What is the typical value around which data points are distributed?\"\n",
    "- It summarizes a large set of data with a single value.\n",
    "- Helps in comparing different datasets.\n",
    "- Gives an idea of the \"average\" behavior of the data.\n",
    "- The Measures of Central Tendency are mainly:\n",
    "- Mean – The arithmetic average\n",
    "- Median – The middle value\n",
    "- Mode – The most frequent value\n",
    "\n"
   ]
  },
  {
   "cell_type": "markdown",
   "id": "5ee3e6c2-294b-4b5c-bcb2-cf7078c3fb77",
   "metadata": {
    "tags": []
   },
   "source": [
    "#### Q.12 Define mean, median, and mode\n",
    "\n"
   ]
  },
  {
   "cell_type": "markdown",
   "id": "c263a3a9-dd69-4bd1-befb-5b5159004a8c",
   "metadata": {},
   "source": [
    "- Mean (Arithmetic Average) The mean is the sum of all values divided by the number of values in a dataset.\n",
    "- Example:\n",
    "- Let’s say your marks in 5 subjects are: [60, 70, 75, 80, 8)\n",
    " \n",
    " - MEAN = [60, 70, 75, 80, 8) / 5  = 74\n",
    " - Note The mean is affected by outliers (extremely high or low values).\n",
    "\n",
    "- Median : The median is the middle value in a dataset arranged in ascending order. If the number of values is even, the median is the average of the two middle values.\n",
    "- Example (Odd number of values):\n",
    "[20, 40, 60, 80, 100]\n",
    "- Median = 60\n",
    "\n",
    "- Example (Even number of values):\n",
    "- [20, 40, 60, 80]\n",
    "- Median = (40 + 60) / 2 = 50\n",
    "- Note: Median is not affected by outliers — good for skewed data.\n",
    "\n",
    "- Mode :The mode is the value that occurs most frequently in the dataset.\n",
    "-  Example:\n",
    "[10, 20, 20, 30, 40, 40, 40, 50]\n",
    "→ Mode = 40 (occurs 3 times)\n",
    "\n"
   ]
  },
  {
   "cell_type": "markdown",
   "id": "76b789c2-af02-4292-a50f-fc621f7ca1ce",
   "metadata": {},
   "source": [
    "#### Q.13 What is the significance of the measure of central tendency?"
   ]
  },
  {
   "cell_type": "markdown",
   "id": "328d2418-a6f7-4545-980a-9447570a4f2b",
   "metadata": {},
   "source": [
    "- It summarizes a large set of data with a single value.\n",
    "- Helps in comparing different datasets.\n",
    "- Gives an idea of the \"average\" behavior of the data.\n"
   ]
  },
  {
   "cell_type": "markdown",
   "id": "1dcf6989-e57a-4650-8ed1-8796524c59aa",
   "metadata": {},
   "source": [
    "#### Q.14 What is variance, and how is it calculated?\n"
   ]
  },
  {
   "cell_type": "markdown",
   "id": "f2c747e4-7816-47ce-8c4d-3d41093c1cbc",
   "metadata": {},
   "source": [
    "- Variance measures the average of the squared differences between each data point and the mean. It tells us how much the data values deviate (differ) from the mean on average.\n",
    "\n"
   ]
  },
  {
   "cell_type": "code",
   "execution_count": 1,
   "id": "02e55ad7-1058-4eb3-828e-97c9682d7f02",
   "metadata": {
    "tags": []
   },
   "outputs": [
    {
     "data": {
      "text/plain": [
       "4"
      ]
     },
     "execution_count": 1,
     "metadata": {},
     "output_type": "execute_result"
    }
   ],
   "source": [
    "import statistics\n",
    "Data = [5, 7, 9]\n",
    "statistics.variance(Data)\n"
   ]
  },
  {
   "cell_type": "markdown",
   "id": "612f0331-3487-4455-91c6-b93480d6d392",
   "metadata": {},
   "source": [
    "#### Q.15 What is standard deviation, and why is it important?"
   ]
  },
  {
   "cell_type": "markdown",
   "id": "3fa9d5ad-9eea-43d8-9cc9-4f5cdbe8f326",
   "metadata": {},
   "source": [
    "- Standard Deviation (SD) is the square root of the variance.\n",
    "- It measures how spread out the data is from the mean — i.e., how much the values typically deviate from the average.\n",
    "-  Why is Standard Deviation Important?\n",
    "- It tells us how tightly or loosely the data points are clustered around the mean.\n",
    "- It's used to interpret data distribution, especially in a normal distribution.\n",
    "- It helps us make assumptions and predictions about data behavior.\n",
    "\n"
   ]
  },
  {
   "cell_type": "markdown",
   "id": "ce6b200a-7648-40cf-817f-941a484c29b9",
   "metadata": {},
   "source": [
    "#### 18. Define and explain the term range in statistics"
   ]
  },
  {
   "cell_type": "markdown",
   "id": "a89207f1-f52e-4e26-8d5a-2e139b698f63",
   "metadata": {},
   "source": [
    "- The range is a basic measure of dispersion (spread) that tells us the difference between the maximum and minimum values in a dataset.\n",
    "- Formula:\n",
    "- **Range = Maximum Value - Minimum Value**\n",
    "\n",
    "- The problem with the range is, again, it gets affected by outliers very easily.\n",
    "- It only looks at two values: the highest and lowest\n",
    "- It ignores all other data points\n",
    "- If there's an extremely high or low value, the range can become misleading\n",
    "\n"
   ]
  },
  {
   "cell_type": "markdown",
   "id": "c8fe8ab1-fd4e-4624-a562-4a55b3fad8a2",
   "metadata": {},
   "source": [
    "#### 17. What is the difference between variance and standard deviation?"
   ]
  },
  {
   "cell_type": "markdown",
   "id": "1b93303e-ba80-4095-849e-a40009297a1d",
   "metadata": {},
   "source": [
    "- Variance and standard deviation are both used to measure how spread out or scattered the data is around the mean (average). But the way they express that spread is slightly different.\n",
    "- Variance calculates the average of the squared differences between each data point and the mean. It tells us how much the values vary from the mean in squared units.\n",
    "\n",
    "- Because we square the differences in variance, the result is not in the same unit as the original data. For example, if your data is in kilograms, variance will be in kg², which is not easy to interpret in real-life terms.\n",
    "\n",
    "- On the other hand, standard deviation is simply the square root of the variance. It brings the value back to the original unit (e.g., kg, cm, ₹), making it more intuitive and easier to understand.\n",
    "\n",
    "- So, while variance is important in formulas and is used in theoretical statistics (like in ANOVA, regression, etc.), standard deviation is more practical when we want to describe how much data typically varies from the mean.\n",
    "\n",
    "- For example, if a dataset has a standard deviation of 5 cm, we can easily say, \"On average, the data points are about 5 cm away from the mean.\" But if variance is 25 cm², it’s harder to interpret directly.\n",
    "\n",
    "- Lastly, both values are always non-negative, and the greater they are, the more spread out your data is. But standard deviation is preferred for reporting and interpretation, while variance is often used in calculation steps.\n",
    "\n",
    "- In short:\n",
    "- Variance tells you how much the data varies — in squared units.\n",
    "- Standard deviation tells you how far data is from the mean — in the original units."
   ]
  },
  {
   "cell_type": "markdown",
   "id": "0bdc3d4e-9ce8-4bd3-b72d-ee98246af606",
   "metadata": {},
   "source": [
    "#### 18. What is skewness in a dataset"
   ]
  },
  {
   "cell_type": "markdown",
   "id": "0d5c27c0-ed36-4ec3-80b7-1e8848065281",
   "metadata": {},
   "source": [
    "- Skewness is a statistical measure that tells us about the asymmetry or symmetry of a data distribution around its mean.\n",
    "- More precisely:\n",
    "- Skewness shows us which side the tail of the distribution is longer or heavier.\n",
    "- It tells us whether the bulk of the data is concentrated on one side of the mean.\n"
   ]
  },
  {
   "cell_type": "markdown",
   "id": "64ba0cf4-596c-4528-be66-a13abdc7168b",
   "metadata": {},
   "source": [
    "#### 19. What does it mean if a dataset is positively or negatively skewed"
   ]
  },
  {
   "cell_type": "markdown",
   "id": "5345524e-65ba-4855-8cdd-240c57765d17",
   "metadata": {},
   "source": [
    "- If Your Data is Positively Skewed (Right-Skewed):\n",
    "- Tail is longer on the right side\n",
    "- There are outliers or extreme values on the higher end\n",
    "- Most of the data (the bulk) is on the left side\n",
    "- ** Mean > Median > Mode**\n",
    "- Example: Incomes — most people earn average amounts, but a few high earners pull the mean up.\n",
    "\n",
    "- f Your Data is Negatively Skewed (Left-Skewed):\n",
    "- Tail is longer on the left side\n",
    "- There are outliers on the lower end\n",
    "- Most of the data is on the right side\n",
    "- ** Mean < Median < Mode**\n",
    "- Example: Age of death in a retirement home — most people die around 80+, but a few pass away early, pulling the mean down."
   ]
  },
  {
   "cell_type": "markdown",
   "id": "13ac5fef-8f88-4242-8f32-f04158f5732d",
   "metadata": {},
   "source": [
    "#### 20. Define and explain kurtosis"
   ]
  },
  {
   "cell_type": "markdown",
   "id": "324bb94e-99cd-4c95-b606-c50308263980",
   "metadata": {},
   "source": []
  },
  {
   "cell_type": "markdown",
   "id": "0bdf3849-66e8-4fec-ba52-a59416555dd0",
   "metadata": {},
   "source": [
    "#### 21.   What is the purpose of covariance?"
   ]
  },
  {
   "cell_type": "markdown",
   "id": "d9befa5e-97e6-47c6-82cd-8043bc389abe",
   "metadata": {},
   "source": [
    "- The purpose of covariance is to measure the direction of the linear relationship between two numerical variables.\n",
    "- It helps us understand how changes in one variable are associated with changes in another:\n",
    "- If the covariance is positive, it means that as one variable increases, the other tends to increase as well.\n",
    "- If the covariance is negative, it means that as one variable increases, the other tends to decrease.\n",
    "- If the covariance is close to zero, it suggests that there is no consistent linear relationship between the two variables.\n",
    "- If Cov(X, Y) > 0 → as X increases, Y also increases → positive relationship\n",
    "- If Cov(X, Y) < 0 → as X increases, Y decreases → negative relationship\n",
    "- If Cov(X, Y) ≈ 0 → no consistent relationship\n",
    "\n",
    "\n"
   ]
  },
  {
   "cell_type": "markdown",
   "id": "dc87c8b9-bfbf-49b8-97b8-84473bb145e8",
   "metadata": {},
   "source": [
    "#### 22. What does correlation measure in statistics"
   ]
  },
  {
   "cell_type": "markdown",
   "id": "8c9e9fbb-441f-492e-b20e-7edd27e6a4db",
   "metadata": {},
   "source": [
    "- To measure correlation, we take the covariance of X and Y and divide it by the product of their standard deviations.\n",
    "- This standardizes the covariance, making the value unitless and comparable across datasets.\n",
    "- Correlation Coefficient (r)\n",
    "- +1\tPerfect positive linear relationship\n",
    "- 7 to 0.9\tStrong positive correlation\n",
    "- 4 to 0.6\tModerate positive correlation\n",
    "- 1 to 0.3\tWeak positive correlation\n",
    "- \tNo linear correlation\n",
    "- .1 to −0.3\tWeak negative correlation\n",
    "- 0.4 to −0.6\tModerate negative correlation\n",
    "- −0.7 to −1\tStrong negative correlation\n"
   ]
  },
  {
   "cell_type": "markdown",
   "id": "994b0238-a504-4988-a676-bc769d72648e",
   "metadata": {},
   "source": [
    "#### 23. What is the difference between covariance and correlation"
   ]
  },
  {
   "cell_type": "markdown",
   "id": "c54c0bbf-566d-452c-a51e-fddd569accd4",
   "metadata": {},
   "source": [
    "\n",
    "Covariance tells us the direction of the relationship between two variables — whether they increase or decrease together.\n",
    "\n",
    "Correlation tells us both the direction and strength of that relationship — and how strong or weak that relationship is.\n",
    "\n",
    "- Scale and Units\n",
    "Covariance is not standardized. Its value depends on the units and scale of the variables involved.\n",
    "\n",
    "For example, if X is in meters and Y is in kilograms, the unit of covariance is meter·kilogram.\n",
    "\n",
    "Correlation is unitless and scale-free, because it is calculated by dividing covariance by the product of the standard deviations of X and Y.\n",
    "\n",
    "- Value Range\n",
    "Covariance can take any value — from −∞ to +∞ — which makes it hard to interpret the strength.\n",
    "\n",
    "Correlation always lies between −1 and +1:\n",
    "\n",
    "+1 means a perfect positive linear relationship\n",
    "\n",
    "0 means no linear relationship\n",
    "\n",
    "−1 means a perfect negative linear relationship\n",
    "\n",
    "- Interpretability\n",
    "Covariance is hard to interpret on its own because the values depend on the data’s scale.\n",
    "\n",
    "Correlation is easier to interpret because it tells you both:\n",
    "\n",
    "Direction (positive or negative)\n",
    "\n",
    "Strength (how close the value is to ±1)"
   ]
  },
  {
   "cell_type": "markdown",
   "id": "7ba9ce8c-206c-4fef-82e9-b11cbab5c93f",
   "metadata": {},
   "source": [
    "#### 24. What are some real-world applications of statistics"
   ]
  },
  {
   "cell_type": "markdown",
   "id": "7aa52247-36f5-43d1-a246-08b1ca19274a",
   "metadata": {},
   "source": [
    "-  **Business & Marketing**\n",
    "- Customer analytics: Understanding buying behavior, customer lifetime value, and segmenting audiences.\n",
    "- A/B testing: Comparing two versions of a product or ad to see which performs better.\n",
    "- Sales forecasting: Using historical sales data to predict future revenue.\n",
    "\n",
    "- **Finance & Economics**\n",
    "- Stock market analysis: Statistics helps investors study trends, risks, and returns.\n",
    "- Credit scoring: Banks assess the probability of default using statistical models.\n",
    "- Economic forecasting: Predicting inflation, GDP growth, unemployment, etc.\n",
    "\n",
    "- **Sports Analytics**\n",
    "- Teams use statistics to analyze player performance, make game strategies, and scout new talent.\n"
   ]
  },
  {
   "cell_type": "code",
   "execution_count": null,
   "id": "01ae7819-b1ee-4761-abbf-b007ad04dd76",
   "metadata": {},
   "outputs": [],
   "source": []
  },
  {
   "cell_type": "code",
   "execution_count": null,
   "id": "209bfb04-d8d2-4e2d-8884-9c4d397da967",
   "metadata": {},
   "outputs": [],
   "source": []
  },
  {
   "cell_type": "code",
   "execution_count": null,
   "id": "eab8f2f8-cdbf-4a7a-ae3a-a2b96618de42",
   "metadata": {},
   "outputs": [],
   "source": []
  },
  {
   "cell_type": "markdown",
   "id": "eaa37ccb-2158-430d-b24c-d421eeea99c9",
   "metadata": {},
   "source": [
    "# Practical"
   ]
  },
  {
   "cell_type": "markdown",
   "id": "45bff495-7429-4e30-ba13-da081cfa839c",
   "metadata": {},
   "source": [
    "#### Q.1 How do you calculate the mean, median, and mode of a dataset?"
   ]
  },
  {
   "cell_type": "code",
   "execution_count": 2,
   "id": "a4ac446d-4d85-4892-85cc-45f6e4f8b418",
   "metadata": {
    "tags": []
   },
   "outputs": [
    {
     "name": "stdout",
     "output_type": "stream",
     "text": [
      "Mean: 16.307692307692307\n",
      "Median: 17.0\n",
      "Mode: 12\n"
     ]
    }
   ],
   "source": [
    "import numpy as np \n",
    "import statistics\n",
    "import pandas as pd\n",
    "\n",
    "data = [12, 15, 12, 18, 20, 15, 17, 12, 21, 16, 19, 18, 17]\n",
    "\n",
    "Mean = np.mean(data)\n",
    "print(\"Mean:\", Mean)\n",
    "\n",
    "Median = np.median(data)\n",
    "print(\"Median:\", Median)\n",
    "\n",
    "Mode = statistics.mode(data)\n",
    "print(\"Mode:\", Mode)"
   ]
  },
  {
   "cell_type": "markdown",
   "id": "242ed261-cc89-4c57-9de5-31cdadbd6a0d",
   "metadata": {},
   "source": [
    "#### Q.2  Write a Python program to compute the variance and standard deviation of a dataset"
   ]
  },
  {
   "cell_type": "code",
   "execution_count": 3,
   "id": "3d391bed-dd18-458b-a9d9-2f09c7f20c8d",
   "metadata": {
    "tags": []
   },
   "outputs": [
    {
     "name": "stdout",
     "output_type": "stream",
     "text": [
      " Sample Variance : 9.064102564102564\n",
      " Population Variance : 8.366863905325443\n",
      " Standard deviation : 3.010664804341819\n"
     ]
    }
   ],
   "source": [
    "from scipy import stats\n",
    "import statistics\n",
    "import numpy as np\n",
    "\n",
    "\n",
    "data = [12, 15, 12, 18, 20, 15, 17, 12, 21, 16, 19, 18, 17]\n",
    "\n",
    "Variance = statistics.variance(data)\n",
    "print(f' Sample Variance : {Variance}')\n",
    "\n",
    "\n",
    "Variance = statistics.pvariance(data)\n",
    "print(f' Population Variance : {Variance}')\n",
    "\n",
    "\n",
    "STDEV = statistics.stdev(data)\n",
    "print(f' Standard deviation : {STDEV}')\n"
   ]
  },
  {
   "cell_type": "markdown",
   "id": "921ceb26-66fc-47d3-9c90-ad1e63d8398b",
   "metadata": {},
   "source": [
    "#### Q.3 Create a dataset and classify it into nominal, ordinal, interval, and ratio types"
   ]
  },
  {
   "cell_type": "code",
   "execution_count": 4,
   "id": "4ce03ad2-f2de-45b8-b95c-1fe3f512dd65",
   "metadata": {
    "tags": []
   },
   "outputs": [
    {
     "data": {
      "text/html": [
       "<div>\n",
       "<style scoped>\n",
       "    .dataframe tbody tr th:only-of-type {\n",
       "        vertical-align: middle;\n",
       "    }\n",
       "\n",
       "    .dataframe tbody tr th {\n",
       "        vertical-align: top;\n",
       "    }\n",
       "\n",
       "    .dataframe thead th {\n",
       "        text-align: right;\n",
       "    }\n",
       "</style>\n",
       "<table border=\"1\" class=\"dataframe\">\n",
       "  <thead>\n",
       "    <tr style=\"text-align: right;\">\n",
       "      <th></th>\n",
       "      <th>Employee_ID</th>\n",
       "      <th>Department</th>\n",
       "      <th>Salary_in_Lakhs</th>\n",
       "      <th>Job_Satisfaction_Level</th>\n",
       "      <th>Years_of_Experience</th>\n",
       "      <th>Date_of_Joining</th>\n",
       "      <th>Monthly_Performance_Rating</th>\n",
       "      <th>Office_Location_Zip</th>\n",
       "      <th>Temperature_in_Office_C</th>\n",
       "    </tr>\n",
       "  </thead>\n",
       "  <tbody>\n",
       "    <tr>\n",
       "      <th>0</th>\n",
       "      <td>101</td>\n",
       "      <td>HR</td>\n",
       "      <td>5.6</td>\n",
       "      <td>High</td>\n",
       "      <td>2</td>\n",
       "      <td>2021-06-01</td>\n",
       "      <td>4</td>\n",
       "      <td>400001</td>\n",
       "      <td>22.5</td>\n",
       "    </tr>\n",
       "    <tr>\n",
       "      <th>1</th>\n",
       "      <td>102</td>\n",
       "      <td>Engineering</td>\n",
       "      <td>8.2</td>\n",
       "      <td>Medium</td>\n",
       "      <td>5</td>\n",
       "      <td>2019-03-15</td>\n",
       "      <td>3</td>\n",
       "      <td>400002</td>\n",
       "      <td>23.0</td>\n",
       "    </tr>\n",
       "    <tr>\n",
       "      <th>2</th>\n",
       "      <td>103</td>\n",
       "      <td>Sales</td>\n",
       "      <td>6.0</td>\n",
       "      <td>Low</td>\n",
       "      <td>3</td>\n",
       "      <td>2020-08-10</td>\n",
       "      <td>2</td>\n",
       "      <td>400003</td>\n",
       "      <td>21.8</td>\n",
       "    </tr>\n",
       "    <tr>\n",
       "      <th>3</th>\n",
       "      <td>104</td>\n",
       "      <td>Finance</td>\n",
       "      <td>7.5</td>\n",
       "      <td>Medium</td>\n",
       "      <td>4</td>\n",
       "      <td>2018-11-01</td>\n",
       "      <td>3</td>\n",
       "      <td>400004</td>\n",
       "      <td>22.0</td>\n",
       "    </tr>\n",
       "  </tbody>\n",
       "</table>\n",
       "</div>"
      ],
      "text/plain": [
       "   Employee_ID   Department  Salary_in_Lakhs Job_Satisfaction_Level  \\\n",
       "0          101           HR              5.6                   High   \n",
       "1          102  Engineering              8.2                 Medium   \n",
       "2          103        Sales              6.0                    Low   \n",
       "3          104      Finance              7.5                 Medium   \n",
       "\n",
       "   Years_of_Experience Date_of_Joining  Monthly_Performance_Rating  \\\n",
       "0                    2      2021-06-01                           4   \n",
       "1                    5      2019-03-15                           3   \n",
       "2                    3      2020-08-10                           2   \n",
       "3                    4      2018-11-01                           3   \n",
       "\n",
       "   Office_Location_Zip  Temperature_in_Office_C  \n",
       "0               400001                     22.5  \n",
       "1               400002                     23.0  \n",
       "2               400003                     21.8  \n",
       "3               400004                     22.0  "
      ]
     },
     "execution_count": 4,
     "metadata": {},
     "output_type": "execute_result"
    }
   ],
   "source": [
    "data = {\n",
    "    \"Employee_ID\": [101, 102, 103, 104],\n",
    "    \"Department\": [\"HR\", \"Engineering\", \"Sales\", \"Finance\"],\n",
    "    \"Salary_in_Lakhs\": [5.6, 8.2, 6.0, 7.5],\n",
    "    \"Job_Satisfaction_Level\": [\"High\", \"Medium\", \"Low\", \"Medium\"],\n",
    "    \"Years_of_Experience\": [2, 5, 3, 4],\n",
    "    \"Date_of_Joining\": [\"2021-06-01\", \"2019-03-15\", \"2020-08-10\", \"2018-11-01\"],\n",
    "    \"Monthly_Performance_Rating\": [4, 3, 2, 3],\n",
    "    \"Office_Location_Zip\": [400001, 400002, 400003, 400004],\n",
    "    \"Temperature_in_Office_C\": [22.5, 23.0, 21.8, 22.0]\n",
    "}\n",
    "\n",
    "emplyoee_data = pd.DataFrame(data)\n",
    "emplyoee_data"
   ]
  },
  {
   "cell_type": "markdown",
   "id": "67028409-0377-494e-b023-5d56f53dc692",
   "metadata": {},
   "source": [
    "- 1. Employee_ID – Nominal\n",
    "- Acts as an identifier; there’s no meaningful order or arithmetic calculation possible.\n",
    "\n",
    "- 2. Department – Nominal\n",
    "- Represents categories like HR, Sales, etc., with no inherent order or ranking.\n",
    "\n",
    "- 3. Salary_in_Lakhs – Ratio\n",
    "- A true zero exists (₹0 means no salary), and you can compare values meaningfully (e.g., ₹8.0 is twice ₹4.0).\n",
    "\n",
    "- 4. Job_Satisfaction_Level – Ordinal\n",
    "- Levels like \"Low\", \"Medium\", \"High\" have a meaningful order, but the difference between them isn’t numerically defined.\n",
    "\n",
    "- 5. Years_of_Experience – Ratio\n",
    "- There is a true zero (0 years means no experience), and it’s meaningful to say someone has \"twice the experience.\"\n",
    "\n",
    "- 6. Date_of_Joining – Interval\n",
    "- Dates allow for measurable differences (e.g., days between two dates), but zero (like year 0) is arbitrary, not a true absence.\n",
    "\n",
    "- 7. Monthly_Performance_Rating – Ordinal\n",
    "- Ratings such as 2, 3, 4 are ranked, but the difference between each is not necessarily equal or standardized.\n",
    "\n",
    "- 8. Office_Location_Zip – Nominal\n",
    "- Although numeric, these are codes representing areas — no ranking, no math.\n",
    "\n",
    "- 9. Temperature_in_Office_C – Interval\n",
    "- Celsius values have equal intervals (e.g., the difference between 20°C and 25°C is same as 25°C and 30°C), but 0°C is not a true zero point.\n",
    "\n",
    "\n",
    "\n",
    "\n",
    "\n",
    "\n",
    "\n",
    "\n",
    "\n",
    "\n",
    "\n"
   ]
  },
  {
   "cell_type": "markdown",
   "id": "d1df5a69-8af7-4559-847b-3627b2dce6b0",
   "metadata": {},
   "source": [
    "#### Q.4 Implement sampling techniques like random sampling and stratified sampling"
   ]
  },
  {
   "cell_type": "code",
   "execution_count": 5,
   "id": "97dbb672-a087-4fff-b9a1-f76cee1914cc",
   "metadata": {
    "tags": []
   },
   "outputs": [
    {
     "data": {
      "text/html": [
       "<div>\n",
       "<style scoped>\n",
       "    .dataframe tbody tr th:only-of-type {\n",
       "        vertical-align: middle;\n",
       "    }\n",
       "\n",
       "    .dataframe tbody tr th {\n",
       "        vertical-align: top;\n",
       "    }\n",
       "\n",
       "    .dataframe thead th {\n",
       "        text-align: right;\n",
       "    }\n",
       "</style>\n",
       "<table border=\"1\" class=\"dataframe\">\n",
       "  <thead>\n",
       "    <tr style=\"text-align: right;\">\n",
       "      <th></th>\n",
       "      <th>First Name</th>\n",
       "      <th>Gender</th>\n",
       "      <th>Start Date</th>\n",
       "      <th>Last Login Time</th>\n",
       "      <th>Salary</th>\n",
       "      <th>Bonus %</th>\n",
       "      <th>Senior Management</th>\n",
       "      <th>Team</th>\n",
       "    </tr>\n",
       "  </thead>\n",
       "  <tbody>\n",
       "    <tr>\n",
       "      <th>507</th>\n",
       "      <td>Clarence</td>\n",
       "      <td>Male</td>\n",
       "      <td>11/3/2015</td>\n",
       "      <td>12:11 AM</td>\n",
       "      <td>103684</td>\n",
       "      <td>18.654</td>\n",
       "      <td>True</td>\n",
       "      <td>Engineering</td>\n",
       "    </tr>\n",
       "    <tr>\n",
       "      <th>818</th>\n",
       "      <td>Ann</td>\n",
       "      <td>Female</td>\n",
       "      <td>10/3/1980</td>\n",
       "      <td>1:08 AM</td>\n",
       "      <td>96941</td>\n",
       "      <td>10.048</td>\n",
       "      <td>True</td>\n",
       "      <td>Distribution</td>\n",
       "    </tr>\n",
       "    <tr>\n",
       "      <th>452</th>\n",
       "      <td>Scott</td>\n",
       "      <td>Male</td>\n",
       "      <td>11/17/2012</td>\n",
       "      <td>2:47 PM</td>\n",
       "      <td>146812</td>\n",
       "      <td>1.965</td>\n",
       "      <td>True</td>\n",
       "      <td>Marketing</td>\n",
       "    </tr>\n",
       "    <tr>\n",
       "      <th>368</th>\n",
       "      <td>Marilyn</td>\n",
       "      <td>Female</td>\n",
       "      <td>12/17/1982</td>\n",
       "      <td>12:10 PM</td>\n",
       "      <td>147183</td>\n",
       "      <td>8.748</td>\n",
       "      <td>False</td>\n",
       "      <td>Business Development</td>\n",
       "    </tr>\n",
       "    <tr>\n",
       "      <th>242</th>\n",
       "      <td>Robert</td>\n",
       "      <td>Male</td>\n",
       "      <td>10/27/1990</td>\n",
       "      <td>7:15 PM</td>\n",
       "      <td>38041</td>\n",
       "      <td>18.428</td>\n",
       "      <td>True</td>\n",
       "      <td>Engineering</td>\n",
       "    </tr>\n",
       "    <tr>\n",
       "      <th>929</th>\n",
       "      <td>Theresa</td>\n",
       "      <td>Female</td>\n",
       "      <td>4/27/2001</td>\n",
       "      <td>9:17 PM</td>\n",
       "      <td>75661</td>\n",
       "      <td>1.079</td>\n",
       "      <td>True</td>\n",
       "      <td>Legal</td>\n",
       "    </tr>\n",
       "    <tr>\n",
       "      <th>262</th>\n",
       "      <td>Anne</td>\n",
       "      <td>Female</td>\n",
       "      <td>7/16/1986</td>\n",
       "      <td>2:08 PM</td>\n",
       "      <td>69134</td>\n",
       "      <td>3.723</td>\n",
       "      <td>True</td>\n",
       "      <td>Engineering</td>\n",
       "    </tr>\n",
       "    <tr>\n",
       "      <th>810</th>\n",
       "      <td>Ralph</td>\n",
       "      <td>Male</td>\n",
       "      <td>2/10/2000</td>\n",
       "      <td>4:48 PM</td>\n",
       "      <td>89854</td>\n",
       "      <td>7.227</td>\n",
       "      <td>False</td>\n",
       "      <td>Business Development</td>\n",
       "    </tr>\n",
       "    <tr>\n",
       "      <th>318</th>\n",
       "      <td>Roy</td>\n",
       "      <td>Male</td>\n",
       "      <td>8/6/2006</td>\n",
       "      <td>7:52 AM</td>\n",
       "      <td>148225</td>\n",
       "      <td>1.841</td>\n",
       "      <td>False</td>\n",
       "      <td>Finance</td>\n",
       "    </tr>\n",
       "    <tr>\n",
       "      <th>49</th>\n",
       "      <td>Chris</td>\n",
       "      <td>NaN</td>\n",
       "      <td>1/24/1980</td>\n",
       "      <td>12:13 PM</td>\n",
       "      <td>113590</td>\n",
       "      <td>3.055</td>\n",
       "      <td>False</td>\n",
       "      <td>Sales</td>\n",
       "    </tr>\n",
       "    <tr>\n",
       "      <th>446</th>\n",
       "      <td>Cheryl</td>\n",
       "      <td>Female</td>\n",
       "      <td>8/16/1994</td>\n",
       "      <td>8:33 AM</td>\n",
       "      <td>67150</td>\n",
       "      <td>15.850</td>\n",
       "      <td>True</td>\n",
       "      <td>Marketing</td>\n",
       "    </tr>\n",
       "    <tr>\n",
       "      <th>142</th>\n",
       "      <td>Elizabeth</td>\n",
       "      <td>Female</td>\n",
       "      <td>10/9/2003</td>\n",
       "      <td>5:53 PM</td>\n",
       "      <td>146129</td>\n",
       "      <td>5.687</td>\n",
       "      <td>False</td>\n",
       "      <td>Finance</td>\n",
       "    </tr>\n",
       "  </tbody>\n",
       "</table>\n",
       "</div>"
      ],
      "text/plain": [
       "    First Name  Gender  Start Date Last Login Time  Salary  Bonus %  \\\n",
       "507   Clarence    Male   11/3/2015        12:11 AM  103684   18.654   \n",
       "818        Ann  Female   10/3/1980         1:08 AM   96941   10.048   \n",
       "452      Scott    Male  11/17/2012         2:47 PM  146812    1.965   \n",
       "368    Marilyn  Female  12/17/1982        12:10 PM  147183    8.748   \n",
       "242     Robert    Male  10/27/1990         7:15 PM   38041   18.428   \n",
       "929    Theresa  Female   4/27/2001         9:17 PM   75661    1.079   \n",
       "262       Anne  Female   7/16/1986         2:08 PM   69134    3.723   \n",
       "810      Ralph    Male   2/10/2000         4:48 PM   89854    7.227   \n",
       "318        Roy    Male    8/6/2006         7:52 AM  148225    1.841   \n",
       "49       Chris     NaN   1/24/1980        12:13 PM  113590    3.055   \n",
       "446     Cheryl  Female   8/16/1994         8:33 AM   67150   15.850   \n",
       "142  Elizabeth  Female   10/9/2003         5:53 PM  146129    5.687   \n",
       "\n",
       "    Senior Management                  Team  \n",
       "507              True           Engineering  \n",
       "818              True          Distribution  \n",
       "452              True             Marketing  \n",
       "368             False  Business Development  \n",
       "242              True           Engineering  \n",
       "929              True                 Legal  \n",
       "262              True           Engineering  \n",
       "810             False  Business Development  \n",
       "318             False               Finance  \n",
       "49              False                 Sales  \n",
       "446              True             Marketing  \n",
       "142             False               Finance  "
      ]
     },
     "execution_count": 5,
     "metadata": {},
     "output_type": "execute_result"
    }
   ],
   "source": [
    "import pandas as pd \n",
    "emplyoees = pd.read_csv('employees.csv')\n",
    "\n",
    "\n",
    "random_sample = emplyoees.sample(n=12, random_state=1)\n",
    "random_sample\n"
   ]
  },
  {
   "cell_type": "code",
   "execution_count": 6,
   "id": "380b8abe-1e76-4268-b038-a120f3d583b6",
   "metadata": {
    "tags": []
   },
   "outputs": [
    {
     "data": {
      "text/html": [
       "<div>\n",
       "<style scoped>\n",
       "    .dataframe tbody tr th:only-of-type {\n",
       "        vertical-align: middle;\n",
       "    }\n",
       "\n",
       "    .dataframe tbody tr th {\n",
       "        vertical-align: top;\n",
       "    }\n",
       "\n",
       "    .dataframe thead th {\n",
       "        text-align: right;\n",
       "    }\n",
       "</style>\n",
       "<table border=\"1\" class=\"dataframe\">\n",
       "  <thead>\n",
       "    <tr style=\"text-align: right;\">\n",
       "      <th></th>\n",
       "      <th>First Name</th>\n",
       "      <th>Gender</th>\n",
       "      <th>Start Date</th>\n",
       "      <th>Last Login Time</th>\n",
       "      <th>Salary</th>\n",
       "      <th>Bonus %</th>\n",
       "      <th>Senior Management</th>\n",
       "      <th>Team</th>\n",
       "    </tr>\n",
       "  </thead>\n",
       "  <tbody>\n",
       "    <tr>\n",
       "      <th>949</th>\n",
       "      <td>Scott</td>\n",
       "      <td>Male</td>\n",
       "      <td>8/20/2011</td>\n",
       "      <td>8:08 AM</td>\n",
       "      <td>37385</td>\n",
       "      <td>8.226</td>\n",
       "      <td>True</td>\n",
       "      <td>Business Development</td>\n",
       "    </tr>\n",
       "    <tr>\n",
       "      <th>841</th>\n",
       "      <td>Ruby</td>\n",
       "      <td>Female</td>\n",
       "      <td>8/13/2006</td>\n",
       "      <td>6:27 PM</td>\n",
       "      <td>48354</td>\n",
       "      <td>19.501</td>\n",
       "      <td>False</td>\n",
       "      <td>Business Development</td>\n",
       "    </tr>\n",
       "    <tr>\n",
       "      <th>134</th>\n",
       "      <td>Carolyn</td>\n",
       "      <td>Female</td>\n",
       "      <td>4/9/2011</td>\n",
       "      <td>5:38 AM</td>\n",
       "      <td>109260</td>\n",
       "      <td>2.650</td>\n",
       "      <td>True</td>\n",
       "      <td>Business Development</td>\n",
       "    </tr>\n",
       "    <tr>\n",
       "      <th>998</th>\n",
       "      <td>Larry</td>\n",
       "      <td>Male</td>\n",
       "      <td>4/20/2013</td>\n",
       "      <td>4:45 PM</td>\n",
       "      <td>60500</td>\n",
       "      <td>11.985</td>\n",
       "      <td>False</td>\n",
       "      <td>Business Development</td>\n",
       "    </tr>\n",
       "    <tr>\n",
       "      <th>406</th>\n",
       "      <td>Mary</td>\n",
       "      <td>Female</td>\n",
       "      <td>8/22/2010</td>\n",
       "      <td>8:03 AM</td>\n",
       "      <td>42214</td>\n",
       "      <td>17.538</td>\n",
       "      <td>True</td>\n",
       "      <td>Business Development</td>\n",
       "    </tr>\n",
       "    <tr>\n",
       "      <th>...</th>\n",
       "      <td>...</td>\n",
       "      <td>...</td>\n",
       "      <td>...</td>\n",
       "      <td>...</td>\n",
       "      <td>...</td>\n",
       "      <td>...</td>\n",
       "      <td>...</td>\n",
       "      <td>...</td>\n",
       "    </tr>\n",
       "    <tr>\n",
       "      <th>892</th>\n",
       "      <td>Brandon</td>\n",
       "      <td>Male</td>\n",
       "      <td>10/23/1995</td>\n",
       "      <td>12:04 PM</td>\n",
       "      <td>60263</td>\n",
       "      <td>2.709</td>\n",
       "      <td>False</td>\n",
       "      <td>Sales</td>\n",
       "    </tr>\n",
       "    <tr>\n",
       "      <th>427</th>\n",
       "      <td>Frank</td>\n",
       "      <td>Male</td>\n",
       "      <td>1/10/1981</td>\n",
       "      <td>1:30 PM</td>\n",
       "      <td>71853</td>\n",
       "      <td>8.037</td>\n",
       "      <td>True</td>\n",
       "      <td>Sales</td>\n",
       "    </tr>\n",
       "    <tr>\n",
       "      <th>690</th>\n",
       "      <td>Bruce</td>\n",
       "      <td>Male</td>\n",
       "      <td>1/28/2007</td>\n",
       "      <td>11:10 PM</td>\n",
       "      <td>134988</td>\n",
       "      <td>13.926</td>\n",
       "      <td>True</td>\n",
       "      <td>Sales</td>\n",
       "    </tr>\n",
       "    <tr>\n",
       "      <th>395</th>\n",
       "      <td>Kathy</td>\n",
       "      <td>Female</td>\n",
       "      <td>11/25/2001</td>\n",
       "      <td>9:55 PM</td>\n",
       "      <td>93753</td>\n",
       "      <td>7.094</td>\n",
       "      <td>True</td>\n",
       "      <td>Sales</td>\n",
       "    </tr>\n",
       "    <tr>\n",
       "      <th>825</th>\n",
       "      <td>Robert</td>\n",
       "      <td>NaN</td>\n",
       "      <td>12/4/2000</td>\n",
       "      <td>1:20 AM</td>\n",
       "      <td>69267</td>\n",
       "      <td>5.890</td>\n",
       "      <td>True</td>\n",
       "      <td>Sales</td>\n",
       "    </tr>\n",
       "  </tbody>\n",
       "</table>\n",
       "<p>96 rows × 8 columns</p>\n",
       "</div>"
      ],
      "text/plain": [
       "    First Name  Gender  Start Date Last Login Time  Salary  Bonus %  \\\n",
       "949      Scott    Male   8/20/2011         8:08 AM   37385    8.226   \n",
       "841       Ruby  Female   8/13/2006         6:27 PM   48354   19.501   \n",
       "134    Carolyn  Female    4/9/2011         5:38 AM  109260    2.650   \n",
       "998      Larry    Male   4/20/2013         4:45 PM   60500   11.985   \n",
       "406       Mary  Female   8/22/2010         8:03 AM   42214   17.538   \n",
       "..         ...     ...         ...             ...     ...      ...   \n",
       "892    Brandon    Male  10/23/1995        12:04 PM   60263    2.709   \n",
       "427      Frank    Male   1/10/1981         1:30 PM   71853    8.037   \n",
       "690      Bruce    Male   1/28/2007        11:10 PM  134988   13.926   \n",
       "395      Kathy  Female  11/25/2001         9:55 PM   93753    7.094   \n",
       "825     Robert     NaN   12/4/2000         1:20 AM   69267    5.890   \n",
       "\n",
       "    Senior Management                  Team  \n",
       "949              True  Business Development  \n",
       "841             False  Business Development  \n",
       "134              True  Business Development  \n",
       "998             False  Business Development  \n",
       "406              True  Business Development  \n",
       "..                ...                   ...  \n",
       "892             False                 Sales  \n",
       "427              True                 Sales  \n",
       "690              True                 Sales  \n",
       "395              True                 Sales  \n",
       "825              True                 Sales  \n",
       "\n",
       "[96 rows x 8 columns]"
      ]
     },
     "execution_count": 6,
     "metadata": {},
     "output_type": "execute_result"
    }
   ],
   "source": [
    "stratified_sample = emplyoees.groupby('Team', group_keys=False).apply(lambda x: x.sample(frac=0.1, random_state=1))\n",
    "stratified_sample\n"
   ]
  },
  {
   "cell_type": "markdown",
   "id": "f591cbf8-dc48-477c-96d4-f9537dd7656d",
   "metadata": {},
   "source": [
    "#### Q.5 Write a Python function to calculate the range of a dataset"
   ]
  },
  {
   "cell_type": "code",
   "execution_count": 7,
   "id": "52cb32f8-0559-448f-b0dc-fb7e4d3fcfde",
   "metadata": {
    "tags": []
   },
   "outputs": [
    {
     "name": "stdout",
     "output_type": "stream",
     "text": [
      "Range of this dataset is : 9\n"
     ]
    }
   ],
   "source": [
    "data = [12, 15, 12, 18, 20, 15, 17, 12, 21, 16, 19, 18, 17]\n",
    "\n",
    "\n",
    "Range = max(data) - min(data)\n",
    "print(f'Range of this dataset is : {Range}')\n"
   ]
  },
  {
   "cell_type": "markdown",
   "id": "beb44731-63cb-45de-bc47-07685a83e96f",
   "metadata": {},
   "source": [
    "#### Q.6  Create a dataset and plot its histogram to visualize skewness"
   ]
  },
  {
   "cell_type": "code",
   "execution_count": 116,
   "id": "1e973b3f-86ee-40ea-bb06-66aa5e8668aa",
   "metadata": {
    "tags": []
   },
   "outputs": [
    {
     "data": {
      "image/png": "[encoded data removed]",
      "text/plain": [
       "<Figure size 640x480 with 1 Axes>"
      ]
     },
     "metadata": {},
     "output_type": "display_data"
    }
   ],
   "source": [
    "import seaborn as sns\n",
    "import matplotlib.pyplot as plt\n",
    "from scipy.stats import skew\n",
    "\n",
    "\n",
    "np.random.seed(42)\n",
    "\n",
    "normal_data = np.random.normal(loc=0, scale=1, size=1000)\n",
    "\n",
    "\n",
    "sns.histplot(normal_data, kde= True, color= 'skyblue')\n",
    "plt.title(f'Normal\\n Skew : {skew(normal_data)}')\n",
    "plt.show()\n"
   ]
  },
  {
   "cell_type": "code",
   "execution_count": 8,
   "id": "d19923be-fc92-467a-8926-7cc8dffe023e",
   "metadata": {
    "tags": []
   },
   "outputs": [
    {
     "name": "stdout",
     "output_type": "stream",
     "text": [
      " The skewness Value of this data is -0.19318833367053298\n"
     ]
    },
    {
     "data": {
      "image/png": "[encoded data removed]",
      "text/plain": [
       "<Figure size 640x480 with 1 Axes>"
      ]
     },
     "metadata": {},
     "output_type": "display_data"
    }
   ],
   "source": [
    "import seaborn as sns\n",
    "import matplotlib.pyplot as plt\n",
    "from scipy.stats import skew\n",
    "\n",
    "\n",
    "print(f' The skewness Value of this data is {skew(data)}')\n",
    "\n",
    "data = [4, 5, 6, 6, 7, 7, 8, 8, 8, 9, 10, 12, 15, 18, 22, 28, 35, 40, 45, 50]\n",
    "\n",
    "sns.histplot(data, bins=10, kde=True)\n",
    "\n",
    "plt.title(\"Histogram of Dataset to view skewness \")\n",
    "plt.xlabel(\"Value\")\n",
    "plt.ylabel(\"Frequency\")\n",
    "plt.grid(True)\n",
    "plt.show()\n"
   ]
  },
  {
   "cell_type": "markdown",
   "id": "055e1bc1-e00a-4a70-b879-f34a8243c2f6",
   "metadata": {},
   "source": [
    "- **Observation**\n",
    "- Bulk of the values (majority) are clustered between 4 to 15 → this is the left side.\n",
    "- A few larger values like 28, 35, 40, 45, 50 are far from the center → these are outliers on the right.\n",
    "- Because of those large right-side values, the mean will be pulled to the right of the median.\n",
    "- Therefore:\n",
    "-  Skewness is positive\n",
    "- The tail is longer on the right (positive side)\n",
    "- Most of the data is concentrated on the left\n",
    "- This is called a right-skewed or positively skewed distribution\n",
    "\n"
   ]
  },
  {
   "cell_type": "code",
   "execution_count": null,
   "id": "e6e75ba4-c93a-41af-a9c6-5a34c257555a",
   "metadata": {},
   "outputs": [],
   "source": []
  },
  {
   "cell_type": "markdown",
   "id": "6945b8d4-279d-4368-ba42-97e2d7485be9",
   "metadata": {},
   "source": [
    "#### Q.7 Calculate skewness and kurtosis of a dataset using Python libraries"
   ]
  },
  {
   "cell_type": "code",
   "execution_count": 9,
   "id": "ae376674-3fd6-4e81-b68f-bf435989aaf5",
   "metadata": {
    "tags": []
   },
   "outputs": [
    {
     "name": "stdout",
     "output_type": "stream",
     "text": [
      "Skewness: 1.1221485160672102\n",
      "Kurtosis: -0.158790403040578\n"
     ]
    }
   ],
   "source": [
    "from scipy.stats import skew, kurtosis\n",
    "\n",
    "data = [4, 5, 6, 6, 7, 7, 8, 8, 8, 9, 10, 12, 15, 18, 22, 28, 35, 40, 45, 50]\n",
    "\n",
    "\n",
    "data_skewness = skew(data)\n",
    "\n",
    "\n",
    "data_kurtosis = kurtosis(data)\n",
    "\n",
    "print(\"Skewness:\", data_skewness)\n",
    "print(\"Kurtosis:\", data_kurtosis)\n"
   ]
  },
  {
   "cell_type": "code",
   "execution_count": null,
   "id": "1a69df5c-9104-4b4b-943f-abe5c1b29305",
   "metadata": {},
   "outputs": [],
   "source": []
  },
  {
   "cell_type": "markdown",
   "id": "57c003a0-e4c7-4ce0-9be0-37d95d30de24",
   "metadata": {},
   "source": [
    "#### Q.8 Generate a dataset and demonstrate positive and negative skewness"
   ]
  },
  {
   "cell_type": "code",
   "execution_count": 10,
   "id": "d46b36bf-39da-4149-8dc6-546dd86967e6",
   "metadata": {
    "tags": []
   },
   "outputs": [
    {
     "name": "stdout",
     "output_type": "stream",
     "text": [
      " The skewness Value of this data is 1.5007982129923947\n"
     ]
    },
    {
     "data": {
      "image/png": "[encoded data removed]",
      "text/plain": [
       "<Figure size 640x480 with 1 Axes>"
      ]
     },
     "metadata": {},
     "output_type": "display_data"
    }
   ],
   "source": [
    "import seaborn as sns\n",
    "import matplotlib.pyplot as plt\n",
    "from scipy.stats import skew\n",
    "\n",
    "\n",
    "data1 = [10, 11, 12, 12, 13, 13, 13, 14, 14, 14, 15, 15, 16, 18, 20, 25, 30, 35, 40]\n",
    "\n",
    "\n",
    "print(f' The skewness Value of this data is {skew(data1)}')\n",
    "\n",
    "\n",
    "sns.histplot(data1, bins=10, kde=True)\n",
    "\n",
    "plt.title(\"Histogram of Dataset to view skewness \")\n",
    "plt.xlabel(\"Value\")\n",
    "plt.ylabel(\"Frequency\")\n",
    "plt.grid(True)\n",
    "plt.show()\n"
   ]
  },
  {
   "cell_type": "code",
   "execution_count": 11,
   "id": "a762dd04-6e5a-435b-bb95-b4c8140549a5",
   "metadata": {
    "tags": []
   },
   "outputs": [
    {
     "name": "stdout",
     "output_type": "stream",
     "text": [
      " The skewness Value of this data is -1.6725314669083906\n"
     ]
    },
    {
     "data": {
      "image/png": "[encoded data removed]",
      "text/plain": [
       "<Figure size 640x480 with 1 Axes>"
      ]
     },
     "metadata": {},
     "output_type": "display_data"
    }
   ],
   "source": [
    "\n",
    "import seaborn as sns\n",
    "import matplotlib.pyplot as plt\n",
    "from scipy.stats import skew\n",
    "\n",
    "\n",
    "\n",
    "data2 = [10, 15, 20, 25, 30, 30, 31, 31, 31, 32, 32, 32, 33, 33, 34, 34, 35, 35, 36]\n",
    "\n",
    "print(f' The skewness Value of this data is {skew(data2)}')\n",
    "\n",
    "\n",
    "sns.histplot(data2, bins=10, kde=True)\n",
    "\n",
    "plt.title(\"Histogram of Dataset to view skewness \")\n",
    "plt.xlabel(\"Value\")\n",
    "plt.ylabel(\"Frequency\")\n",
    "plt.grid(True)\n",
    "plt.show()\n"
   ]
  },
  {
   "cell_type": "markdown",
   "id": "63f14726-5d64-4cda-a1f7-72fb5fd9f1f8",
   "metadata": {},
   "source": []
  },
  {
   "cell_type": "markdown",
   "id": "2558f955-a09e-4055-a13d-f9a796e0d3b9",
   "metadata": {},
   "source": []
  },
  {
   "cell_type": "markdown",
   "id": "a19805dd-4951-40d0-a1cf-2e0a2597f848",
   "metadata": {},
   "source": [
    "#### Q.9 Write a Python script to calculate covariance between two datasets"
   ]
  },
  {
   "cell_type": "code",
   "execution_count": 12,
   "id": "3a9c4cfe-f6c3-4796-ae83-e785299bff9c",
   "metadata": {
    "tags": []
   },
   "outputs": [
    {
     "name": "stdout",
     "output_type": "stream",
     "text": [
      "   total_bill   tip     sex smoker  day    time  size\n",
      "0       16.99  1.01  Female     No  Sun  Dinner     2\n",
      "1       10.34  1.66    Male     No  Sun  Dinner     3\n",
      "2       21.01  3.50    Male     No  Sun  Dinner     3\n",
      "3       23.68  3.31    Male     No  Sun  Dinner     2\n",
      "4       24.59  3.61  Female     No  Sun  Dinner     4\n"
     ]
    },
    {
     "data": {
      "text/html": [
       "<div>\n",
       "<style scoped>\n",
       "    .dataframe tbody tr th:only-of-type {\n",
       "        vertical-align: middle;\n",
       "    }\n",
       "\n",
       "    .dataframe tbody tr th {\n",
       "        vertical-align: top;\n",
       "    }\n",
       "\n",
       "    .dataframe thead th {\n",
       "        text-align: right;\n",
       "    }\n",
       "</style>\n",
       "<table border=\"1\" class=\"dataframe\">\n",
       "  <thead>\n",
       "    <tr style=\"text-align: right;\">\n",
       "      <th></th>\n",
       "      <th>total_bill</th>\n",
       "      <th>tip</th>\n",
       "      <th>size</th>\n",
       "    </tr>\n",
       "  </thead>\n",
       "  <tbody>\n",
       "    <tr>\n",
       "      <th>total_bill</th>\n",
       "      <td>79.252939</td>\n",
       "      <td>8.323502</td>\n",
       "      <td>5.065983</td>\n",
       "    </tr>\n",
       "    <tr>\n",
       "      <th>tip</th>\n",
       "      <td>8.323502</td>\n",
       "      <td>1.914455</td>\n",
       "      <td>0.643906</td>\n",
       "    </tr>\n",
       "    <tr>\n",
       "      <th>size</th>\n",
       "      <td>5.065983</td>\n",
       "      <td>0.643906</td>\n",
       "      <td>0.904591</td>\n",
       "    </tr>\n",
       "  </tbody>\n",
       "</table>\n",
       "</div>"
      ],
      "text/plain": [
       "            total_bill       tip      size\n",
       "total_bill   79.252939  8.323502  5.065983\n",
       "tip           8.323502  1.914455  0.643906\n",
       "size          5.065983  0.643906  0.904591"
      ]
     },
     "execution_count": 12,
     "metadata": {},
     "output_type": "execute_result"
    }
   ],
   "source": [
    "import seaborn as sns \n",
    "tips = sns.load_dataset('tips')\n",
    "print(tips.head())\n",
    "\n",
    "\n",
    "tips.cov(numeric_only= True)\n"
   ]
  },
  {
   "cell_type": "markdown",
   "id": "e75f8f31-7c4c-454b-8a99-1c5971edcc77",
   "metadata": {},
   "source": [
    "#### Q.10  Write a Python script to calculate the correlation coefficient between two datasets"
   ]
  },
  {
   "cell_type": "code",
   "execution_count": 13,
   "id": "eff45ac1-3718-41c0-acc9-606dda47b0aa",
   "metadata": {
    "tags": []
   },
   "outputs": [
    {
     "data": {
      "text/html": [
       "<div>\n",
       "<style scoped>\n",
       "    .dataframe tbody tr th:only-of-type {\n",
       "        vertical-align: middle;\n",
       "    }\n",
       "\n",
       "    .dataframe tbody tr th {\n",
       "        vertical-align: top;\n",
       "    }\n",
       "\n",
       "    .dataframe thead th {\n",
       "        text-align: right;\n",
       "    }\n",
       "</style>\n",
       "<table border=\"1\" class=\"dataframe\">\n",
       "  <thead>\n",
       "    <tr style=\"text-align: right;\">\n",
       "      <th></th>\n",
       "      <th>total_bill</th>\n",
       "      <th>tip</th>\n",
       "      <th>size</th>\n",
       "    </tr>\n",
       "  </thead>\n",
       "  <tbody>\n",
       "    <tr>\n",
       "      <th>total_bill</th>\n",
       "      <td>1.000000</td>\n",
       "      <td>0.675734</td>\n",
       "      <td>0.598315</td>\n",
       "    </tr>\n",
       "    <tr>\n",
       "      <th>tip</th>\n",
       "      <td>0.675734</td>\n",
       "      <td>1.000000</td>\n",
       "      <td>0.489299</td>\n",
       "    </tr>\n",
       "    <tr>\n",
       "      <th>size</th>\n",
       "      <td>0.598315</td>\n",
       "      <td>0.489299</td>\n",
       "      <td>1.000000</td>\n",
       "    </tr>\n",
       "  </tbody>\n",
       "</table>\n",
       "</div>"
      ],
      "text/plain": [
       "            total_bill       tip      size\n",
       "total_bill    1.000000  0.675734  0.598315\n",
       "tip           0.675734  1.000000  0.489299\n",
       "size          0.598315  0.489299  1.000000"
      ]
     },
     "execution_count": 13,
     "metadata": {},
     "output_type": "execute_result"
    }
   ],
   "source": [
    "import seaborn as sns \n",
    "tips = sns.load_dataset('tips')\n",
    "\n",
    "\n",
    "\n",
    "Correlation = tips.corr(numeric_only= True)\n",
    "Correlation\n",
    "\n"
   ]
  },
  {
   "cell_type": "code",
   "execution_count": 14,
   "id": "6c83146e-5e5f-4e27-a4b3-db1c0b907630",
   "metadata": {
    "tags": []
   },
   "outputs": [
    {
     "data": {
      "image/png": "[encoded data removed]",
      "text/plain": [
       "<Figure size 640x480 with 2 Axes>"
      ]
     },
     "metadata": {},
     "output_type": "display_data"
    }
   ],
   "source": [
    "sns.heatmap(Correlation, annot=True, cmap='coolwarm', square=True, linewidths=0.5, fmt=\".2f\")\n",
    "plt.title(\"Correlation Heatmap\")\n",
    "plt.show()\n"
   ]
  },
  {
   "cell_type": "markdown",
   "id": "ff65bd3c-4919-4e4a-9dee-3e4d747ddf00",
   "metadata": {},
   "source": [
    "#### Q.11  Create a scatter plot to visualize the relationship between two variables."
   ]
  },
  {
   "cell_type": "code",
   "execution_count": 15,
   "id": "e038e509-6eb8-43fd-87ca-fbbf1b43ffe2",
   "metadata": {
    "tags": []
   },
   "outputs": [
    {
     "data": {
      "text/html": [
       "<div>\n",
       "<style scoped>\n",
       "    .dataframe tbody tr th:only-of-type {\n",
       "        vertical-align: middle;\n",
       "    }\n",
       "\n",
       "    .dataframe tbody tr th {\n",
       "        vertical-align: top;\n",
       "    }\n",
       "\n",
       "    .dataframe thead th {\n",
       "        text-align: right;\n",
       "    }\n",
       "</style>\n",
       "<table border=\"1\" class=\"dataframe\">\n",
       "  <thead>\n",
       "    <tr style=\"text-align: right;\">\n",
       "      <th></th>\n",
       "      <th>total_bill</th>\n",
       "      <th>tip</th>\n",
       "      <th>sex</th>\n",
       "      <th>smoker</th>\n",
       "      <th>day</th>\n",
       "      <th>time</th>\n",
       "      <th>size</th>\n",
       "    </tr>\n",
       "  </thead>\n",
       "  <tbody>\n",
       "    <tr>\n",
       "      <th>0</th>\n",
       "      <td>16.99</td>\n",
       "      <td>1.01</td>\n",
       "      <td>Female</td>\n",
       "      <td>No</td>\n",
       "      <td>Sun</td>\n",
       "      <td>Dinner</td>\n",
       "      <td>2</td>\n",
       "    </tr>\n",
       "    <tr>\n",
       "      <th>1</th>\n",
       "      <td>10.34</td>\n",
       "      <td>1.66</td>\n",
       "      <td>Male</td>\n",
       "      <td>No</td>\n",
       "      <td>Sun</td>\n",
       "      <td>Dinner</td>\n",
       "      <td>3</td>\n",
       "    </tr>\n",
       "    <tr>\n",
       "      <th>2</th>\n",
       "      <td>21.01</td>\n",
       "      <td>3.50</td>\n",
       "      <td>Male</td>\n",
       "      <td>No</td>\n",
       "      <td>Sun</td>\n",
       "      <td>Dinner</td>\n",
       "      <td>3</td>\n",
       "    </tr>\n",
       "    <tr>\n",
       "      <th>3</th>\n",
       "      <td>23.68</td>\n",
       "      <td>3.31</td>\n",
       "      <td>Male</td>\n",
       "      <td>No</td>\n",
       "      <td>Sun</td>\n",
       "      <td>Dinner</td>\n",
       "      <td>2</td>\n",
       "    </tr>\n",
       "    <tr>\n",
       "      <th>4</th>\n",
       "      <td>24.59</td>\n",
       "      <td>3.61</td>\n",
       "      <td>Female</td>\n",
       "      <td>No</td>\n",
       "      <td>Sun</td>\n",
       "      <td>Dinner</td>\n",
       "      <td>4</td>\n",
       "    </tr>\n",
       "  </tbody>\n",
       "</table>\n",
       "</div>"
      ],
      "text/plain": [
       "   total_bill   tip     sex smoker  day    time  size\n",
       "0       16.99  1.01  Female     No  Sun  Dinner     2\n",
       "1       10.34  1.66    Male     No  Sun  Dinner     3\n",
       "2       21.01  3.50    Male     No  Sun  Dinner     3\n",
       "3       23.68  3.31    Male     No  Sun  Dinner     2\n",
       "4       24.59  3.61  Female     No  Sun  Dinner     4"
      ]
     },
     "execution_count": 15,
     "metadata": {},
     "output_type": "execute_result"
    }
   ],
   "source": [
    "tips.head()"
   ]
  },
  {
   "cell_type": "code",
   "execution_count": 16,
   "id": "20450d6d-fe48-4ca3-98df-7647fbef0e66",
   "metadata": {
    "tags": []
   },
   "outputs": [
    {
     "data": {
      "image/png": "[encoded data removed]",
      "text/plain": [
       "<Figure size 640x480 with 1 Axes>"
      ]
     },
     "metadata": {},
     "output_type": "display_data"
    }
   ],
   "source": [
    "import seaborn as sns\n",
    "import matplotlib.pyplot as plt\n",
    "\n",
    "tips\n",
    "\n",
    "sns.scatterplot(x= 'total_bill', y='tip', data=tips,hue= 'total_bill' )\n",
    "\n",
    "plt.title(\"Scatter Plot of Total_Bill  vs Tip\")\n",
    "plt.xlabel(\"Total Bill\")\n",
    "plt.ylabel(\"Tip\")\n",
    "plt.show()\n",
    "\n",
    "                  "
   ]
  },
  {
   "cell_type": "code",
   "execution_count": null,
   "id": "d18461d2-62f3-4b83-a8ef-8d761a0018f3",
   "metadata": {
    "tags": []
   },
   "outputs": [],
   "source": []
  },
  {
   "cell_type": "markdown",
   "id": "bc914367-46e1-45cb-b410-24dbe9a6012b",
   "metadata": {},
   "source": [
    "#### Q.12 Implement and compare simple random sampling and systematic sampling"
   ]
  },
  {
   "cell_type": "code",
   "execution_count": 17,
   "id": "912d06c8-4987-47c2-99df-00f75238af1c",
   "metadata": {
    "tags": []
   },
   "outputs": [
    {
     "data": {
      "text/html": [
       "<div>\n",
       "<style scoped>\n",
       "    .dataframe tbody tr th:only-of-type {\n",
       "        vertical-align: middle;\n",
       "    }\n",
       "\n",
       "    .dataframe tbody tr th {\n",
       "        vertical-align: top;\n",
       "    }\n",
       "\n",
       "    .dataframe thead th {\n",
       "        text-align: right;\n",
       "    }\n",
       "</style>\n",
       "<table border=\"1\" class=\"dataframe\">\n",
       "  <thead>\n",
       "    <tr style=\"text-align: right;\">\n",
       "      <th></th>\n",
       "      <th>First Name</th>\n",
       "      <th>Gender</th>\n",
       "      <th>Start Date</th>\n",
       "      <th>Last Login Time</th>\n",
       "      <th>Salary</th>\n",
       "      <th>Bonus %</th>\n",
       "      <th>Senior Management</th>\n",
       "      <th>Team</th>\n",
       "    </tr>\n",
       "  </thead>\n",
       "  <tbody>\n",
       "    <tr>\n",
       "      <th>521</th>\n",
       "      <td>NaN</td>\n",
       "      <td>NaN</td>\n",
       "      <td>9/25/1981</td>\n",
       "      <td>9:59 AM</td>\n",
       "      <td>83895</td>\n",
       "      <td>17.971</td>\n",
       "      <td>NaN</td>\n",
       "      <td>Engineering</td>\n",
       "    </tr>\n",
       "    <tr>\n",
       "      <th>737</th>\n",
       "      <td>Lawrence</td>\n",
       "      <td>Male</td>\n",
       "      <td>7/23/2011</td>\n",
       "      <td>3:41 AM</td>\n",
       "      <td>122971</td>\n",
       "      <td>14.618</td>\n",
       "      <td>False</td>\n",
       "      <td>Product</td>\n",
       "    </tr>\n",
       "    <tr>\n",
       "      <th>740</th>\n",
       "      <td>Russell</td>\n",
       "      <td>NaN</td>\n",
       "      <td>5/9/2009</td>\n",
       "      <td>11:59 AM</td>\n",
       "      <td>149456</td>\n",
       "      <td>3.533</td>\n",
       "      <td>False</td>\n",
       "      <td>Marketing</td>\n",
       "    </tr>\n",
       "    <tr>\n",
       "      <th>660</th>\n",
       "      <td>Mary</td>\n",
       "      <td>NaN</td>\n",
       "      <td>12/24/1986</td>\n",
       "      <td>7:02 PM</td>\n",
       "      <td>100341</td>\n",
       "      <td>6.662</td>\n",
       "      <td>False</td>\n",
       "      <td>Distribution</td>\n",
       "    </tr>\n",
       "    <tr>\n",
       "      <th>411</th>\n",
       "      <td>Kevin</td>\n",
       "      <td>Male</td>\n",
       "      <td>6/23/1981</td>\n",
       "      <td>8:26 PM</td>\n",
       "      <td>134598</td>\n",
       "      <td>11.699</td>\n",
       "      <td>False</td>\n",
       "      <td>Business Development</td>\n",
       "    </tr>\n",
       "    <tr>\n",
       "      <th>678</th>\n",
       "      <td>Brenda</td>\n",
       "      <td>Female</td>\n",
       "      <td>4/17/1984</td>\n",
       "      <td>7:12 AM</td>\n",
       "      <td>87715</td>\n",
       "      <td>2.675</td>\n",
       "      <td>False</td>\n",
       "      <td>Product</td>\n",
       "    </tr>\n",
       "    <tr>\n",
       "      <th>626</th>\n",
       "      <td>NaN</td>\n",
       "      <td>Female</td>\n",
       "      <td>4/13/1997</td>\n",
       "      <td>8:03 AM</td>\n",
       "      <td>131755</td>\n",
       "      <td>2.930</td>\n",
       "      <td>NaN</td>\n",
       "      <td>NaN</td>\n",
       "    </tr>\n",
       "    <tr>\n",
       "      <th>513</th>\n",
       "      <td>Jimmy</td>\n",
       "      <td>Male</td>\n",
       "      <td>11/19/2013</td>\n",
       "      <td>7:29 PM</td>\n",
       "      <td>63549</td>\n",
       "      <td>19.624</td>\n",
       "      <td>False</td>\n",
       "      <td>NaN</td>\n",
       "    </tr>\n",
       "    <tr>\n",
       "      <th>859</th>\n",
       "      <td>Robin</td>\n",
       "      <td>Female</td>\n",
       "      <td>10/1/2012</td>\n",
       "      <td>2:44 AM</td>\n",
       "      <td>41808</td>\n",
       "      <td>19.239</td>\n",
       "      <td>False</td>\n",
       "      <td>Business Development</td>\n",
       "    </tr>\n",
       "    <tr>\n",
       "      <th>136</th>\n",
       "      <td>Henry</td>\n",
       "      <td>Male</td>\n",
       "      <td>4/24/1995</td>\n",
       "      <td>4:18 AM</td>\n",
       "      <td>43542</td>\n",
       "      <td>19.687</td>\n",
       "      <td>False</td>\n",
       "      <td>Legal</td>\n",
       "    </tr>\n",
       "    <tr>\n",
       "      <th>811</th>\n",
       "      <td>Judith</td>\n",
       "      <td>Female</td>\n",
       "      <td>9/3/1989</td>\n",
       "      <td>11:16 AM</td>\n",
       "      <td>134048</td>\n",
       "      <td>6.818</td>\n",
       "      <td>True</td>\n",
       "      <td>Marketing</td>\n",
       "    </tr>\n",
       "    <tr>\n",
       "      <th>76</th>\n",
       "      <td>Margaret</td>\n",
       "      <td>Female</td>\n",
       "      <td>9/10/1988</td>\n",
       "      <td>12:42 PM</td>\n",
       "      <td>131604</td>\n",
       "      <td>7.353</td>\n",
       "      <td>True</td>\n",
       "      <td>Distribution</td>\n",
       "    </tr>\n",
       "  </tbody>\n",
       "</table>\n",
       "</div>"
      ],
      "text/plain": [
       "    First Name  Gender  Start Date Last Login Time  Salary  Bonus %  \\\n",
       "521        NaN     NaN   9/25/1981         9:59 AM   83895   17.971   \n",
       "737   Lawrence    Male   7/23/2011         3:41 AM  122971   14.618   \n",
       "740    Russell     NaN    5/9/2009        11:59 AM  149456    3.533   \n",
       "660       Mary     NaN  12/24/1986         7:02 PM  100341    6.662   \n",
       "411      Kevin    Male   6/23/1981         8:26 PM  134598   11.699   \n",
       "678     Brenda  Female   4/17/1984         7:12 AM   87715    2.675   \n",
       "626        NaN  Female   4/13/1997         8:03 AM  131755    2.930   \n",
       "513      Jimmy    Male  11/19/2013         7:29 PM   63549   19.624   \n",
       "859      Robin  Female   10/1/2012         2:44 AM   41808   19.239   \n",
       "136      Henry    Male   4/24/1995         4:18 AM   43542   19.687   \n",
       "811     Judith  Female    9/3/1989        11:16 AM  134048    6.818   \n",
       "76    Margaret  Female   9/10/1988        12:42 PM  131604    7.353   \n",
       "\n",
       "    Senior Management                  Team  \n",
       "521               NaN           Engineering  \n",
       "737             False               Product  \n",
       "740             False             Marketing  \n",
       "660             False          Distribution  \n",
       "411             False  Business Development  \n",
       "678             False               Product  \n",
       "626               NaN                   NaN  \n",
       "513             False                   NaN  \n",
       "859             False  Business Development  \n",
       "136             False                 Legal  \n",
       "811              True             Marketing  \n",
       "76               True          Distribution  "
      ]
     },
     "execution_count": 17,
     "metadata": {},
     "output_type": "execute_result"
    }
   ],
   "source": [
    "import pandas as pd \n",
    "emplyoees = pd.read_csv('employees.csv')\n",
    "\n",
    "\n",
    "random_sample = emplyoees.sample(n=12, random_state=42)\n",
    "random_sample\n"
   ]
  },
  {
   "cell_type": "code",
   "execution_count": 18,
   "id": "0b913fc1-9452-4aca-9c0b-7ac405699b0a",
   "metadata": {
    "tags": []
   },
   "outputs": [
    {
     "data": {
      "text/html": [
       "<div>\n",
       "<style scoped>\n",
       "    .dataframe tbody tr th:only-of-type {\n",
       "        vertical-align: middle;\n",
       "    }\n",
       "\n",
       "    .dataframe tbody tr th {\n",
       "        vertical-align: top;\n",
       "    }\n",
       "\n",
       "    .dataframe thead th {\n",
       "        text-align: right;\n",
       "    }\n",
       "</style>\n",
       "<table border=\"1\" class=\"dataframe\">\n",
       "  <thead>\n",
       "    <tr style=\"text-align: right;\">\n",
       "      <th></th>\n",
       "      <th>First Name</th>\n",
       "      <th>Gender</th>\n",
       "      <th>Start Date</th>\n",
       "      <th>Last Login Time</th>\n",
       "      <th>Salary</th>\n",
       "      <th>Bonus %</th>\n",
       "      <th>Senior Management</th>\n",
       "      <th>Team</th>\n",
       "    </tr>\n",
       "  </thead>\n",
       "  <tbody>\n",
       "    <tr>\n",
       "      <th>61</th>\n",
       "      <td>Denise</td>\n",
       "      <td>Female</td>\n",
       "      <td>11/6/2001</td>\n",
       "      <td>12:03 PM</td>\n",
       "      <td>106862</td>\n",
       "      <td>3.699</td>\n",
       "      <td>False</td>\n",
       "      <td>Business Development</td>\n",
       "    </tr>\n",
       "    <tr>\n",
       "      <th>161</th>\n",
       "      <td>Marilyn</td>\n",
       "      <td>NaN</td>\n",
       "      <td>8/22/1999</td>\n",
       "      <td>9:09 AM</td>\n",
       "      <td>103386</td>\n",
       "      <td>11.451</td>\n",
       "      <td>False</td>\n",
       "      <td>Distribution</td>\n",
       "    </tr>\n",
       "    <tr>\n",
       "      <th>261</th>\n",
       "      <td>Marie</td>\n",
       "      <td>Female</td>\n",
       "      <td>8/6/1995</td>\n",
       "      <td>1:58 PM</td>\n",
       "      <td>100308</td>\n",
       "      <td>13.677</td>\n",
       "      <td>False</td>\n",
       "      <td>Product</td>\n",
       "    </tr>\n",
       "    <tr>\n",
       "      <th>361</th>\n",
       "      <td>Margaret</td>\n",
       "      <td>Female</td>\n",
       "      <td>5/5/2014</td>\n",
       "      <td>6:01 AM</td>\n",
       "      <td>55044</td>\n",
       "      <td>4.078</td>\n",
       "      <td>False</td>\n",
       "      <td>Sales</td>\n",
       "    </tr>\n",
       "    <tr>\n",
       "      <th>461</th>\n",
       "      <td>Jeremy</td>\n",
       "      <td>Male</td>\n",
       "      <td>8/9/2001</td>\n",
       "      <td>3:56 AM</td>\n",
       "      <td>43354</td>\n",
       "      <td>13.946</td>\n",
       "      <td>False</td>\n",
       "      <td>Marketing</td>\n",
       "    </tr>\n",
       "    <tr>\n",
       "      <th>561</th>\n",
       "      <td>Kathleen</td>\n",
       "      <td>Female</td>\n",
       "      <td>9/20/1996</td>\n",
       "      <td>3:45 PM</td>\n",
       "      <td>71430</td>\n",
       "      <td>8.572</td>\n",
       "      <td>False</td>\n",
       "      <td>Engineering</td>\n",
       "    </tr>\n",
       "    <tr>\n",
       "      <th>661</th>\n",
       "      <td>Craig</td>\n",
       "      <td>Male</td>\n",
       "      <td>8/21/1995</td>\n",
       "      <td>2:38 AM</td>\n",
       "      <td>123876</td>\n",
       "      <td>4.225</td>\n",
       "      <td>False</td>\n",
       "      <td>Engineering</td>\n",
       "    </tr>\n",
       "    <tr>\n",
       "      <th>761</th>\n",
       "      <td>Jennifer</td>\n",
       "      <td>Female</td>\n",
       "      <td>3/31/2015</td>\n",
       "      <td>7:43 PM</td>\n",
       "      <td>132084</td>\n",
       "      <td>10.006</td>\n",
       "      <td>True</td>\n",
       "      <td>Engineering</td>\n",
       "    </tr>\n",
       "    <tr>\n",
       "      <th>861</th>\n",
       "      <td>Jerry</td>\n",
       "      <td>Male</td>\n",
       "      <td>3/26/1989</td>\n",
       "      <td>4:15 AM</td>\n",
       "      <td>140850</td>\n",
       "      <td>18.855</td>\n",
       "      <td>False</td>\n",
       "      <td>Finance</td>\n",
       "    </tr>\n",
       "    <tr>\n",
       "      <th>961</th>\n",
       "      <td>Antonio</td>\n",
       "      <td>NaN</td>\n",
       "      <td>6/18/1989</td>\n",
       "      <td>9:37 PM</td>\n",
       "      <td>103050</td>\n",
       "      <td>3.050</td>\n",
       "      <td>False</td>\n",
       "      <td>Legal</td>\n",
       "    </tr>\n",
       "  </tbody>\n",
       "</table>\n",
       "</div>"
      ],
      "text/plain": [
       "    First Name  Gender Start Date Last Login Time  Salary  Bonus %  \\\n",
       "61      Denise  Female  11/6/2001        12:03 PM  106862    3.699   \n",
       "161    Marilyn     NaN  8/22/1999         9:09 AM  103386   11.451   \n",
       "261      Marie  Female   8/6/1995         1:58 PM  100308   13.677   \n",
       "361   Margaret  Female   5/5/2014         6:01 AM   55044    4.078   \n",
       "461     Jeremy    Male   8/9/2001         3:56 AM   43354   13.946   \n",
       "561   Kathleen  Female  9/20/1996         3:45 PM   71430    8.572   \n",
       "661      Craig    Male  8/21/1995         2:38 AM  123876    4.225   \n",
       "761   Jennifer  Female  3/31/2015         7:43 PM  132084   10.006   \n",
       "861      Jerry    Male  3/26/1989         4:15 AM  140850   18.855   \n",
       "961    Antonio     NaN  6/18/1989         9:37 PM  103050    3.050   \n",
       "\n",
       "    Senior Management                  Team  \n",
       "61              False  Business Development  \n",
       "161             False          Distribution  \n",
       "261             False               Product  \n",
       "361             False                 Sales  \n",
       "461             False             Marketing  \n",
       "561             False           Engineering  \n",
       "661             False           Engineering  \n",
       "761              True           Engineering  \n",
       "861             False               Finance  \n",
       "961             False                 Legal  "
      ]
     },
     "execution_count": 18,
     "metadata": {},
     "output_type": "execute_result"
    }
   ],
   "source": [
    "# Step size (k)\n",
    "k = len(emplyoees) // 10  # Want 10 samples out of 100 → step = 10\n",
    "\n",
    "# Random starting point between 0 and k–1\n",
    "\n",
    "start = np.random.randint(0, k)\n",
    "\n",
    "# Select every kth item starting from 'start'\n",
    "\n",
    "systematic_indices = list(range(start, len(emplyoees), k))\n",
    "systematic_sample = emplyoees.iloc[systematic_indices]\n",
    "\n",
    "\n",
    "systematic_sample\n"
   ]
  },
  {
   "cell_type": "markdown",
   "id": "28881ce7-fc81-4e35-83c9-01c9f59c270e",
   "metadata": {},
   "source": [
    "#### Q.13  Calculate the mean, median, and mode of grouped data\n"
   ]
  },
  {
   "cell_type": "code",
   "execution_count": 19,
   "id": "10578246-7bec-4614-8247-4746a7754198",
   "metadata": {
    "tags": []
   },
   "outputs": [
    {
     "name": "stdout",
     "output_type": "stream",
     "text": [
      "Mean: 23.571428571428573\n"
     ]
    }
   ],
   "source": [
    "import pandas as pd\n",
    "import numpy as np\n",
    "\n",
    "# Grouped data\n",
    "data = {\n",
    "    'Class Interval': ['0-10', '10-20', '20-30', '30-40', '40-50'],\n",
    "    'Frequency': [5, 8, 12, 7, 3]\n",
    "}\n",
    "\n",
    "df = pd.DataFrame(data)\n",
    "\n",
    "# Calculate class midpoints\n",
    "df['Midpoint'] = df['Class Interval'].apply(lambda x: (int(x.split('-')[0]) + int(x.split('-')[1])) / 2)\n",
    "\n",
    "df['f * x'] = df['Frequency'] * df['Midpoint']\n",
    "mean = df['f * x'].sum() / df['Frequency'].sum()\n",
    "print(\"Mean:\", mean)\n",
    "\n"
   ]
  },
  {
   "cell_type": "code",
   "execution_count": 20,
   "id": "2ca4e96a-b1bc-420a-b5c6-a774b0c6ab7e",
   "metadata": {
    "tags": []
   },
   "outputs": [
    {
     "data": {
      "text/html": [
       "<div>\n",
       "<style scoped>\n",
       "    .dataframe tbody tr th:only-of-type {\n",
       "        vertical-align: middle;\n",
       "    }\n",
       "\n",
       "    .dataframe tbody tr th {\n",
       "        vertical-align: top;\n",
       "    }\n",
       "\n",
       "    .dataframe thead th {\n",
       "        text-align: right;\n",
       "    }\n",
       "</style>\n",
       "<table border=\"1\" class=\"dataframe\">\n",
       "  <thead>\n",
       "    <tr style=\"text-align: right;\">\n",
       "      <th></th>\n",
       "      <th>Class Interval</th>\n",
       "      <th>Frequency</th>\n",
       "      <th>Midpoint</th>\n",
       "      <th>f * x</th>\n",
       "    </tr>\n",
       "  </thead>\n",
       "  <tbody>\n",
       "    <tr>\n",
       "      <th>0</th>\n",
       "      <td>0-10</td>\n",
       "      <td>5</td>\n",
       "      <td>5.0</td>\n",
       "      <td>25.0</td>\n",
       "    </tr>\n",
       "    <tr>\n",
       "      <th>1</th>\n",
       "      <td>10-20</td>\n",
       "      <td>8</td>\n",
       "      <td>15.0</td>\n",
       "      <td>120.0</td>\n",
       "    </tr>\n",
       "    <tr>\n",
       "      <th>2</th>\n",
       "      <td>20-30</td>\n",
       "      <td>12</td>\n",
       "      <td>25.0</td>\n",
       "      <td>300.0</td>\n",
       "    </tr>\n",
       "    <tr>\n",
       "      <th>3</th>\n",
       "      <td>30-40</td>\n",
       "      <td>7</td>\n",
       "      <td>35.0</td>\n",
       "      <td>245.0</td>\n",
       "    </tr>\n",
       "    <tr>\n",
       "      <th>4</th>\n",
       "      <td>40-50</td>\n",
       "      <td>3</td>\n",
       "      <td>45.0</td>\n",
       "      <td>135.0</td>\n",
       "    </tr>\n",
       "  </tbody>\n",
       "</table>\n",
       "</div>"
      ],
      "text/plain": [
       "  Class Interval  Frequency  Midpoint  f * x\n",
       "0           0-10          5       5.0   25.0\n",
       "1          10-20          8      15.0  120.0\n",
       "2          20-30         12      25.0  300.0\n",
       "3          30-40          7      35.0  245.0\n",
       "4          40-50          3      45.0  135.0"
      ]
     },
     "execution_count": 20,
     "metadata": {},
     "output_type": "execute_result"
    }
   ],
   "source": [
    "df"
   ]
  },
  {
   "cell_type": "markdown",
   "id": "5575d8ed-cb8b-45f1-95f5-97bd5e409eeb",
   "metadata": {},
   "source": [
    "#### Q.14 Simulate data using Python and calculate its central tendency and dispersion."
   ]
  },
  {
   "cell_type": "code",
   "execution_count": 130,
   "id": "9fb8610d-42d1-4483-b45a-ce74b849a6b7",
   "metadata": {},
   "outputs": [
    {
     "name": "stdout",
     "output_type": "stream",
     "text": [
      "Central Tendency:\n",
      "Mean   : 48.96\n",
      "Median : 48.73\n",
      "Mode   : 54.97\n",
      "\n",
      "Dispersion:\n",
      "Range       : 44.72\n",
      "Variance    : 82.48\n",
      "Std Dev     : 9.08\n",
      "IQR         : 10.07\n"
     ]
    }
   ],
   "source": [
    "import numpy as np\n",
    "import pandas as pd\n",
    "from scipy import stats\n",
    "import statistics\n",
    "\n",
    "\n",
    "np.random.seed(42)\n",
    "data = np.random.normal(loc=50, scale=10, size=100) \n",
    "df = pd.DataFrame({'Values': data})\n",
    "\n",
    "\n",
    "Mean = np.mean(df['Values'])\n",
    "Median = np.median(df['Values'])\n",
    "Mode = statistics.mode(df['Values'])\n",
    "\n",
    "Range = max(df['Values']) - min(df['Values'])\n",
    "Variance = statistics.variance(df['Values'])\n",
    "Std_Deviation = statistics.stdev(df['Values'])\n",
    "IQR = stats.iqr(df[\"Values\"])\n",
    "\n",
    "\n",
    "print(\"Central Tendency:\")\n",
    "print(f\"Mean   : {Mean:.2f}\")\n",
    "print(f\"Median : {Median:.2f}\")\n",
    "print(f\"Mode   : {Mode:.2f}\")\n",
    "\n",
    "print(\"\\nDispersion:\")\n",
    "print(f\"Range       : {Range:.2f}\")\n",
    "print(f\"Variance    : {Variance:.2f}\")\n",
    "print(f\"Std Dev     : {Std_Deviation:.2f}\")\n",
    "print(f\"IQR         : {IQR:.2f}\")"
   ]
  },
  {
   "cell_type": "markdown",
   "id": "1849eeb4-8c52-4e45-ae4c-c087a6f13680",
   "metadata": {
    "tags": []
   },
   "source": [
    "#### Q.15 Use NumPy or pandas to summarize a dataset’s descriptive statistics"
   ]
  },
  {
   "cell_type": "code",
   "execution_count": 21,
   "id": "57379940-f017-4db5-a768-383eb1a54181",
   "metadata": {
    "tags": []
   },
   "outputs": [
    {
     "data": {
      "text/html": [
       "<div>\n",
       "<style scoped>\n",
       "    .dataframe tbody tr th:only-of-type {\n",
       "        vertical-align: middle;\n",
       "    }\n",
       "\n",
       "    .dataframe tbody tr th {\n",
       "        vertical-align: top;\n",
       "    }\n",
       "\n",
       "    .dataframe thead th {\n",
       "        text-align: right;\n",
       "    }\n",
       "</style>\n",
       "<table border=\"1\" class=\"dataframe\">\n",
       "  <thead>\n",
       "    <tr style=\"text-align: right;\">\n",
       "      <th></th>\n",
       "      <th>total_bill</th>\n",
       "      <th>tip</th>\n",
       "      <th>size</th>\n",
       "    </tr>\n",
       "  </thead>\n",
       "  <tbody>\n",
       "    <tr>\n",
       "      <th>count</th>\n",
       "      <td>244.000000</td>\n",
       "      <td>244.000000</td>\n",
       "      <td>244.000000</td>\n",
       "    </tr>\n",
       "    <tr>\n",
       "      <th>mean</th>\n",
       "      <td>19.785943</td>\n",
       "      <td>2.998279</td>\n",
       "      <td>2.569672</td>\n",
       "    </tr>\n",
       "    <tr>\n",
       "      <th>std</th>\n",
       "      <td>8.902412</td>\n",
       "      <td>1.383638</td>\n",
       "      <td>0.951100</td>\n",
       "    </tr>\n",
       "    <tr>\n",
       "      <th>min</th>\n",
       "      <td>3.070000</td>\n",
       "      <td>1.000000</td>\n",
       "      <td>1.000000</td>\n",
       "    </tr>\n",
       "    <tr>\n",
       "      <th>25%</th>\n",
       "      <td>13.347500</td>\n",
       "      <td>2.000000</td>\n",
       "      <td>2.000000</td>\n",
       "    </tr>\n",
       "    <tr>\n",
       "      <th>50%</th>\n",
       "      <td>17.795000</td>\n",
       "      <td>2.900000</td>\n",
       "      <td>2.000000</td>\n",
       "    </tr>\n",
       "    <tr>\n",
       "      <th>75%</th>\n",
       "      <td>24.127500</td>\n",
       "      <td>3.562500</td>\n",
       "      <td>3.000000</td>\n",
       "    </tr>\n",
       "    <tr>\n",
       "      <th>max</th>\n",
       "      <td>50.810000</td>\n",
       "      <td>10.000000</td>\n",
       "      <td>6.000000</td>\n",
       "    </tr>\n",
       "  </tbody>\n",
       "</table>\n",
       "</div>"
      ],
      "text/plain": [
       "       total_bill         tip        size\n",
       "count  244.000000  244.000000  244.000000\n",
       "mean    19.785943    2.998279    2.569672\n",
       "std      8.902412    1.383638    0.951100\n",
       "min      3.070000    1.000000    1.000000\n",
       "25%     13.347500    2.000000    2.000000\n",
       "50%     17.795000    2.900000    2.000000\n",
       "75%     24.127500    3.562500    3.000000\n",
       "max     50.810000   10.000000    6.000000"
      ]
     },
     "execution_count": 21,
     "metadata": {},
     "output_type": "execute_result"
    }
   ],
   "source": [
    "import pandas as pd\n",
    "tips.head()\n",
    "tips.describe()"
   ]
  },
  {
   "cell_type": "markdown",
   "id": "7dd03a55-065b-40cb-aea6-a465ea8da71a",
   "metadata": {
    "tags": []
   },
   "source": [
    "#### Q.16 Plot a boxplot to understand the spread and identify outliers"
   ]
  },
  {
   "cell_type": "code",
   "execution_count": 22,
   "id": "69ba7996-51ad-48f5-a1c7-3dea146dd7dc",
   "metadata": {
    "tags": []
   },
   "outputs": [
    {
     "data": {
      "image/png": "[encoded data removed]",
      "text/plain": [
       "<Figure size 640x480 with 1 Axes>"
      ]
     },
     "metadata": {},
     "output_type": "display_data"
    }
   ],
   "source": [
    "import seaborn as sns\n",
    "import matplotlib.pyplot as plt\n",
    "\n",
    "data = [56, 59, 61, 65, 67, 70, 71, 72, 73, 74, 75, 76, 77, 79, 80, 82, 83, 85, 88, 90, 94, 96, 98, 120, 135]\n",
    "\n",
    "\n",
    "sns.boxplot(x=data, color='green')\n",
    "\n",
    "plt.title(\"Box Plot of Exam Scores\")\n",
    "plt.xlabel(\"Score\")\n",
    "plt.show()\n"
   ]
  },
  {
   "cell_type": "markdown",
   "id": "e585c495-650c-4e3c-8489-7fd6ba33af64",
   "metadata": {},
   "source": [
    "#### Q.17 Calculate the interquartile range (IQR) of a dataset"
   ]
  },
  {
   "cell_type": "code",
   "execution_count": 23,
   "id": "afd63dda-5720-447f-bed0-6fb67c550b69",
   "metadata": {
    "tags": []
   },
   "outputs": [
    {
     "name": "stdout",
     "output_type": "stream",
     "text": [
      "Q1 (25th percentile): [71.]\n",
      "Q3 (75th percentile): [88.]\n",
      "Interquartile Range (IQR): [17.]\n"
     ]
    }
   ],
   "source": [
    "import numpy as np \n",
    "\n",
    "data = [56, 59, 61, 65, 67, 70, 71, 72, 73, 74, 75, 76, 77, 79, 80, 82, 83, 85, 88, 90, 94, 96, 98, 120, 135]\n",
    "\n",
    "Q1= np.percentile(data, [25])\n",
    "Q3= np.percentile(data, [75])\n",
    "\n",
    "IQR = Q3 -Q1\n",
    "\n",
    "print(\"Q1 (25th percentile):\", Q1)\n",
    "print(\"Q3 (75th percentile):\", Q3)\n",
    "print(\"Interquartile Range (IQR):\", IQR)\n",
    "\n"
   ]
  },
  {
   "cell_type": "markdown",
   "id": "20556466-3a94-4a18-a757-9115c4dca405",
   "metadata": {},
   "source": [
    "#### Q.18 Implement Z-score normalization and explain its significance"
   ]
  },
  {
   "cell_type": "code",
   "execution_count": 68,
   "id": "b283c6da-b4ff-44cb-a1ce-02e4c51724f4",
   "metadata": {},
   "outputs": [
    {
     "name": "stdout",
     "output_type": "stream",
     "text": [
      "Original Data:\n",
      "        Height     Weight\n",
      "0  187.640523  65.720218\n",
      "1  174.001572  72.271368\n",
      "2  179.787380  68.805189\n",
      "3  192.408932  65.608375\n",
      "4  188.675580  67.219316\n",
      "5  160.227221  66.668372\n",
      "6  179.500884  72.470395\n",
      "7  168.486428  63.974209\n",
      "8  168.967811  66.565339\n",
      "9  174.105985  60.729521\n",
      "\n",
      "Z-score Normalized Data:\n",
      "      Height    Weight\n",
      "0  1.060957 -0.381055\n",
      "1 -0.349367  1.564638\n",
      "2  0.248909  0.535182\n",
      "3  1.554030 -0.414272\n",
      "4  1.167986  0.064178\n",
      "5 -1.773692 -0.099453\n",
      "6  0.219284  1.623749\n",
      "7 -0.919656 -0.899620\n",
      "8 -0.869879 -0.130054\n",
      "9 -0.338571 -1.863293\n",
      "\n",
      "Means After Normalization:\n",
      " Height    3.108624e-16\n",
      "Weight   -2.753353e-15\n",
      "dtype: float64\n",
      "\n",
      "Standard Deviations After Normalization:\n",
      " Height    1.0\n",
      "Weight    1.0\n",
      "dtype: float64\n"
     ]
    }
   ],
   "source": [
    "import numpy as np\n",
    "import pandas as pd\n",
    "from scipy.stats import zscore\n",
    "\n",
    "np.random.seed(0)\n",
    "data = {\n",
    "    'Height': np.random.normal(170, 10, 10),\n",
    "    'Weight': np.random.normal(65, 5, 10)\n",
    "}\n",
    "\n",
    "df = pd.DataFrame(data)\n",
    "print(\"Original Data:\\n\", df)\n",
    "\n",
    "df_zscore = df.apply(zscore)\n",
    "\n",
    "\n",
    "print(\"\\nZ-score Normalized Data:\\n\", df_zscore)\n",
    "\n",
    "\n",
    "print(\"\\nMeans After Normalization:\\n\", df_zscore.mean())\n",
    "print(\"\\nStandard Deviations After Normalization:\\n\", df_zscore.std(ddof=0))\n"
   ]
  },
  {
   "cell_type": "markdown",
   "id": "54bb0bc8-5c7d-4bdc-b885-c24fdb7c2d70",
   "metadata": {},
   "source": [
    "#### Q.19 Compare two datasets using their standard deviations"
   ]
  },
  {
   "cell_type": "code",
   "execution_count": 24,
   "id": "7d2fcf53-8d75-460a-bcda-5c118e292a75",
   "metadata": {},
   "outputs": [
    {
     "name": "stdout",
     "output_type": "stream",
     "text": [
      " Standard deviation od dataset A : 1.5811388300841898 & Standard deviation of dataset B: 3.1622776601683795\n"
     ]
    }
   ],
   "source": [
    "import statistics\n",
    "\n",
    "\n",
    "dataset_A = [5, 6, 7, 8, 9]\n",
    "dataset_B = [2, 4, 6, 8, 10]\n",
    "\n",
    "\n",
    "std1 = statistics.stdev(dataset_A)\n",
    "std2 = statistics.stdev(dataset_B)\n",
    "\n",
    "print(f' Standard deviation od dataset A : {std1} & Standard deviation of dataset B: {std2}')"
   ]
  },
  {
   "cell_type": "markdown",
   "id": "83a3a367-cade-4116-a145-0d7c26e21759",
   "metadata": {
    "tags": []
   },
   "source": [
    "#### Q.20 Write a Python program to visualize covariance using a heatmap"
   ]
  },
  {
   "cell_type": "code",
   "execution_count": 29,
   "id": "c30caba1-70a5-4843-9d99-d01aa64e8004",
   "metadata": {},
   "outputs": [
    {
     "data": {
      "image/png": "[encoded data removed]",
      "text/plain": [
       "<Figure size 640x480 with 2 Axes>"
      ]
     },
     "metadata": {},
     "output_type": "display_data"
    }
   ],
   "source": [
    "import seaborn as sns \n",
    "tips = sns.load_dataset('tips')\n",
    "\n",
    "\n",
    "\n",
    "covariance = tips.cov(numeric_only= True)\n",
    "covariance\n",
    "\n",
    "sns.heatmap(covariance, annot=True, cmap='plasma', square=True, linewidths=0.5, fmt=\".2f\")\n",
    "plt.title(\"Covariance Heatmap\")\n",
    "plt.show()\n"
   ]
  },
  {
   "cell_type": "markdown",
   "id": "7f77049f-75ae-45c6-ae30-8de723dd1e90",
   "metadata": {},
   "source": [
    "#### Q.21 Use seaborn to create a correlation matrix for a dataset"
   ]
  },
  {
   "cell_type": "code",
   "execution_count": 34,
   "id": "692476a8-527f-4f36-ae27-3ebff5f7379b",
   "metadata": {},
   "outputs": [
    {
     "data": {
      "text/html": [
       "<div>\n",
       "<style scoped>\n",
       "    .dataframe tbody tr th:only-of-type {\n",
       "        vertical-align: middle;\n",
       "    }\n",
       "\n",
       "    .dataframe tbody tr th {\n",
       "        vertical-align: top;\n",
       "    }\n",
       "\n",
       "    .dataframe thead th {\n",
       "        text-align: right;\n",
       "    }\n",
       "</style>\n",
       "<table border=\"1\" class=\"dataframe\">\n",
       "  <thead>\n",
       "    <tr style=\"text-align: right;\">\n",
       "      <th></th>\n",
       "      <th>sepal_length</th>\n",
       "      <th>sepal_width</th>\n",
       "      <th>petal_length</th>\n",
       "      <th>petal_width</th>\n",
       "      <th>species</th>\n",
       "    </tr>\n",
       "  </thead>\n",
       "  <tbody>\n",
       "    <tr>\n",
       "      <th>0</th>\n",
       "      <td>5.1</td>\n",
       "      <td>3.5</td>\n",
       "      <td>1.4</td>\n",
       "      <td>0.2</td>\n",
       "      <td>setosa</td>\n",
       "    </tr>\n",
       "    <tr>\n",
       "      <th>1</th>\n",
       "      <td>4.9</td>\n",
       "      <td>3.0</td>\n",
       "      <td>1.4</td>\n",
       "      <td>0.2</td>\n",
       "      <td>setosa</td>\n",
       "    </tr>\n",
       "    <tr>\n",
       "      <th>2</th>\n",
       "      <td>4.7</td>\n",
       "      <td>3.2</td>\n",
       "      <td>1.3</td>\n",
       "      <td>0.2</td>\n",
       "      <td>setosa</td>\n",
       "    </tr>\n",
       "    <tr>\n",
       "      <th>3</th>\n",
       "      <td>4.6</td>\n",
       "      <td>3.1</td>\n",
       "      <td>1.5</td>\n",
       "      <td>0.2</td>\n",
       "      <td>setosa</td>\n",
       "    </tr>\n",
       "    <tr>\n",
       "      <th>4</th>\n",
       "      <td>5.0</td>\n",
       "      <td>3.6</td>\n",
       "      <td>1.4</td>\n",
       "      <td>0.2</td>\n",
       "      <td>setosa</td>\n",
       "    </tr>\n",
       "  </tbody>\n",
       "</table>\n",
       "</div>"
      ],
      "text/plain": [
       "   sepal_length  sepal_width  petal_length  petal_width species\n",
       "0           5.1          3.5           1.4          0.2  setosa\n",
       "1           4.9          3.0           1.4          0.2  setosa\n",
       "2           4.7          3.2           1.3          0.2  setosa\n",
       "3           4.6          3.1           1.5          0.2  setosa\n",
       "4           5.0          3.6           1.4          0.2  setosa"
      ]
     },
     "execution_count": 34,
     "metadata": {},
     "output_type": "execute_result"
    }
   ],
   "source": [
    "import seaborn as sns \n",
    "import pandas as pd \n",
    "import matplotlib.pyplot as plt\n",
    "\n",
    "iris = sns.load_dataset('iris')\n",
    "iris.head()"
   ]
  },
  {
   "cell_type": "code",
   "execution_count": 37,
   "id": "06c3a49f-1862-4f94-82e3-aaa8f9514140",
   "metadata": {
    "tags": []
   },
   "outputs": [
    {
     "data": {
      "text/html": [
       "<div>\n",
       "<style scoped>\n",
       "    .dataframe tbody tr th:only-of-type {\n",
       "        vertical-align: middle;\n",
       "    }\n",
       "\n",
       "    .dataframe tbody tr th {\n",
       "        vertical-align: top;\n",
       "    }\n",
       "\n",
       "    .dataframe thead th {\n",
       "        text-align: right;\n",
       "    }\n",
       "</style>\n",
       "<table border=\"1\" class=\"dataframe\">\n",
       "  <thead>\n",
       "    <tr style=\"text-align: right;\">\n",
       "      <th></th>\n",
       "      <th>sepal_length</th>\n",
       "      <th>sepal_width</th>\n",
       "      <th>petal_length</th>\n",
       "      <th>petal_width</th>\n",
       "    </tr>\n",
       "  </thead>\n",
       "  <tbody>\n",
       "    <tr>\n",
       "      <th>sepal_length</th>\n",
       "      <td>1.000000</td>\n",
       "      <td>-0.117570</td>\n",
       "      <td>0.871754</td>\n",
       "      <td>0.817941</td>\n",
       "    </tr>\n",
       "    <tr>\n",
       "      <th>sepal_width</th>\n",
       "      <td>-0.117570</td>\n",
       "      <td>1.000000</td>\n",
       "      <td>-0.428440</td>\n",
       "      <td>-0.366126</td>\n",
       "    </tr>\n",
       "    <tr>\n",
       "      <th>petal_length</th>\n",
       "      <td>0.871754</td>\n",
       "      <td>-0.428440</td>\n",
       "      <td>1.000000</td>\n",
       "      <td>0.962865</td>\n",
       "    </tr>\n",
       "    <tr>\n",
       "      <th>petal_width</th>\n",
       "      <td>0.817941</td>\n",
       "      <td>-0.366126</td>\n",
       "      <td>0.962865</td>\n",
       "      <td>1.000000</td>\n",
       "    </tr>\n",
       "  </tbody>\n",
       "</table>\n",
       "</div>"
      ],
      "text/plain": [
       "              sepal_length  sepal_width  petal_length  petal_width\n",
       "sepal_length      1.000000    -0.117570      0.871754     0.817941\n",
       "sepal_width      -0.117570     1.000000     -0.428440    -0.366126\n",
       "petal_length      0.871754    -0.428440      1.000000     0.962865\n",
       "petal_width       0.817941    -0.366126      0.962865     1.000000"
      ]
     },
     "execution_count": 37,
     "metadata": {},
     "output_type": "execute_result"
    }
   ],
   "source": [
    "corr_iris = iris.corr(numeric_only= True)\n",
    "corr_iris"
   ]
  },
  {
   "cell_type": "code",
   "execution_count": 44,
   "id": "11b5f6d1-500a-4306-a238-1d7252d0c641",
   "metadata": {
    "tags": []
   },
   "outputs": [
    {
     "data": {
      "image/png": "[encoded data removed]",
      "text/plain": [
       "<Figure size 640x480 with 2 Axes>"
      ]
     },
     "metadata": {},
     "output_type": "display_data"
    }
   ],
   "source": [
    "sns.heatmap(corr_iris, annot=True, cmap='seismic', square=True, linewidths=0.5, fmt=\".2f\")\n",
    "plt.title(\"Iris Correlation Heatmap\")\n",
    "plt.show()"
   ]
  },
  {
   "cell_type": "markdown",
   "id": "3452630b-59a4-4eff-8283-5c856533d5d0",
   "metadata": {},
   "source": [
    "#### Q.22  Generate a dataset and implement both variance and standard deviation computations"
   ]
  },
  {
   "cell_type": "code",
   "execution_count": 58,
   "id": "9ffc52d0-400c-4ac0-b40a-5d9b17ebf0b7",
   "metadata": {},
   "outputs": [
    {
     "name": "stdout",
     "output_type": "stream",
     "text": [
      "Variance : 141.8239361307898\n",
      "Standard deviation  : 11.90898552063902\n"
     ]
    }
   ],
   "source": [
    "import numpy as np\n",
    "import pandas as pd\n",
    "\n",
    "\n",
    "np.random.seed(1) \n",
    "\n",
    "data = np.random.normal(loc=50, scale=10, size=10)\n",
    "df = pd.DataFrame({'Values': data})\n",
    "\n",
    "variance = np.var(df[\"Values\"])\n",
    "standard_dev = np.std(df['Values'])\n",
    "\n",
    "print(f'Variance : {variance}')\n",
    "print(f'Standard deviation  : {standard_dev}')\n",
    "\n",
    "\n"
   ]
  },
  {
   "cell_type": "markdown",
   "id": "131cb024-3cf8-4928-bebd-b55620906164",
   "metadata": {},
   "source": [
    "#### Q.23. Visualize skewness and kurtosis using Python libraries like matplotlib or seaborn\n"
   ]
  },
  {
   "cell_type": "code",
   "execution_count": 69,
   "id": "dcf5e607-d0af-4dfc-a690-e9e7c7a11839",
   "metadata": {},
   "outputs": [
    {
     "data": {
      "image/png": "[encoded data removed]",
      "text/plain": [
       "<Figure size 1400x1000 with 4 Axes>"
      ]
     },
     "metadata": {},
     "output_type": "display_data"
    }
   ],
   "source": [
    "import numpy as np\n",
    "import pandas as pd\n",
    "import seaborn as sns\n",
    "import matplotlib.pyplot as plt\n",
    "from scipy.stats import skew, kurtosis\n",
    "\n",
    "\n",
    "np.random.seed(42)\n",
    "\n",
    "normal_data = np.random.normal(loc=0, scale=1, size=1000)\n",
    "pos_skewed = np.random.exponential(scale=1, size=1000)\n",
    "neg_skewed = -np.random.exponential(scale=1, size=1000)\n",
    "\n",
    "high_kurtosis = np.concatenate([np.random.normal(0, 0.5, 900), np.random.normal(0, 5, 100)])\n",
    "\n",
    "fig, axes = plt.subplots(2, 2, figsize=(14, 10))\n",
    "\n",
    "\n",
    "sns.histplot(normal_data, kde=True, ax=axes[0, 0], color='skyblue')\n",
    "axes[0, 0].set_title(f\"Normal\\nSkew: {skew(normal_data):.2f}, Kurtosis: {kurtosis(normal_data):.3f}\")\n",
    "\n",
    "\n",
    "sns.histplot(pos_skewed, kde=True, ax=axes[0, 1], color='orange')\n",
    "axes[0, 1].set_title(f\"Positively Skewed\\nSkew: {skew(pos_skewed):.2f}, Kurtosis: {kurtosis(pos_skewed):.3f}\")\n",
    "\n",
    "\n",
    "sns.histplot(neg_skewed, kde=True, ax=axes[1, 0], color='green')\n",
    "axes[1, 0].set_title(f\"Negatively Skewed\\nSkew: {skew(neg_skewed):.2f}, Kurtosis: {kurtosis(neg_skewed):.2f}\")\n",
    "\n",
    "\n",
    "sns.histplot(high_kurtosis, kde=True, ax=axes[1, 1], color='red')\n",
    "axes[1, 1].set_title(f\"High Kurtosis\\nSkew: {skew(high_kurtosis):.2f}, Kurtosis: {kurtosis(high_kurtosis):.2f}\")\n",
    "\n",
    "plt.tight_layout()\n",
    "plt.show()\n"
   ]
  },
  {
   "cell_type": "code",
   "execution_count": 71,
   "id": "61202ffd-69a0-4405-aa10-8ccb6a17cd0c",
   "metadata": {
    "tags": []
   },
   "outputs": [],
   "source": [
    "np.random.seed(45)"
   ]
  },
  {
   "cell_type": "markdown",
   "id": "ea19acaa-0f79-417d-aff4-8ccf1e7cd952",
   "metadata": {},
   "source": [
    "#### Q. 24 Implement the Pearson and Spearman correlation coefficients for a dataset"
   ]
  },
  {
   "cell_type": "code",
   "execution_count": 137,
   "id": "f5cecdc3-b667-4037-a818-800cc746b156",
   "metadata": {},
   "outputs": [],
   "source": [
    "import numpy as np\n",
    "import pandas as pd\n",
    "from scipy.stats import pearsonr, spearmanr\n"
   ]
  },
  {
   "cell_type": "code",
   "execution_count": 138,
   "id": "27ff095e-3499-4899-9cbe-6827435ddf34",
   "metadata": {
    "tags": []
   },
   "outputs": [
    {
     "data": {
      "text/html": [
       "<div>\n",
       "<style scoped>\n",
       "    .dataframe tbody tr th:only-of-type {\n",
       "        vertical-align: middle;\n",
       "    }\n",
       "\n",
       "    .dataframe tbody tr th {\n",
       "        vertical-align: top;\n",
       "    }\n",
       "\n",
       "    .dataframe thead th {\n",
       "        text-align: right;\n",
       "    }\n",
       "</style>\n",
       "<table border=\"1\" class=\"dataframe\">\n",
       "  <thead>\n",
       "    <tr style=\"text-align: right;\">\n",
       "      <th></th>\n",
       "      <th>X</th>\n",
       "      <th>Y_Linear</th>\n",
       "      <th>Y_Nonlinear</th>\n",
       "    </tr>\n",
       "  </thead>\n",
       "  <tbody>\n",
       "    <tr>\n",
       "      <th>0</th>\n",
       "      <td>54.967142</td>\n",
       "      <td>150.747717</td>\n",
       "      <td>3057.165384</td>\n",
       "    </tr>\n",
       "    <tr>\n",
       "      <th>1</th>\n",
       "      <td>48.617357</td>\n",
       "      <td>141.645618</td>\n",
       "      <td>2419.725853</td>\n",
       "    </tr>\n",
       "    <tr>\n",
       "      <th>2</th>\n",
       "      <td>56.476885</td>\n",
       "      <td>166.003511</td>\n",
       "      <td>3297.943707</td>\n",
       "    </tr>\n",
       "    <tr>\n",
       "      <th>3</th>\n",
       "      <td>65.230299</td>\n",
       "      <td>187.668123</td>\n",
       "      <td>4360.372056</td>\n",
       "    </tr>\n",
       "    <tr>\n",
       "      <th>4</th>\n",
       "      <td>47.658466</td>\n",
       "      <td>141.362542</td>\n",
       "      <td>2133.562469</td>\n",
       "    </tr>\n",
       "    <tr>\n",
       "      <th>...</th>\n",
       "      <td>...</td>\n",
       "      <td>...</td>\n",
       "      <td>...</td>\n",
       "    </tr>\n",
       "    <tr>\n",
       "      <th>95</th>\n",
       "      <td>35.364851</td>\n",
       "      <td>109.947725</td>\n",
       "      <td>1181.381693</td>\n",
       "    </tr>\n",
       "    <tr>\n",
       "      <th>96</th>\n",
       "      <td>52.961203</td>\n",
       "      <td>150.045034</td>\n",
       "      <td>2894.848986</td>\n",
       "    </tr>\n",
       "    <tr>\n",
       "      <th>97</th>\n",
       "      <td>52.610553</td>\n",
       "      <td>159.368909</td>\n",
       "      <td>2798.600210</td>\n",
       "    </tr>\n",
       "    <tr>\n",
       "      <th>98</th>\n",
       "      <td>50.051135</td>\n",
       "      <td>150.735491</td>\n",
       "      <td>2586.402283</td>\n",
       "    </tr>\n",
       "    <tr>\n",
       "      <th>99</th>\n",
       "      <td>47.654129</td>\n",
       "      <td>131.532683</td>\n",
       "      <td>2333.878863</td>\n",
       "    </tr>\n",
       "  </tbody>\n",
       "</table>\n",
       "<p>100 rows × 3 columns</p>\n",
       "</div>"
      ],
      "text/plain": [
       "            X    Y_Linear  Y_Nonlinear\n",
       "0   54.967142  150.747717  3057.165384\n",
       "1   48.617357  141.645618  2419.725853\n",
       "2   56.476885  166.003511  3297.943707\n",
       "3   65.230299  187.668123  4360.372056\n",
       "4   47.658466  141.362542  2133.562469\n",
       "..        ...         ...          ...\n",
       "95  35.364851  109.947725  1181.381693\n",
       "96  52.961203  150.045034  2894.848986\n",
       "97  52.610553  159.368909  2798.600210\n",
       "98  50.051135  150.735491  2586.402283\n",
       "99  47.654129  131.532683  2333.878863\n",
       "\n",
       "[100 rows x 3 columns]"
      ]
     },
     "execution_count": 138,
     "metadata": {},
     "output_type": "execute_result"
    }
   ],
   "source": [
    "np.random.seed(42)\n",
    "\n",
    "x = np.random.normal(50, 10, 100)\n",
    "y_linear = 3 * x + np.random.normal(0, 10, 100)        # Strong linear relationship\n",
    "y_nonlinear = np.square(x) + np.random.normal(0, 100, 100)  # Strong monotonic, non-linear\n",
    "\n",
    "df = pd.DataFrame({\n",
    "    'X': x,\n",
    "    'Y_Linear': y_linear,\n",
    "    'Y_Nonlinear': y_nonlinear\n",
    "})\n",
    "df"
   ]
  },
  {
   "cell_type": "code",
   "execution_count": 141,
   "id": "265f2a87-6197-4158-a6f9-0b45d0346971",
   "metadata": {
    "tags": []
   },
   "outputs": [
    {
     "name": "stdout",
     "output_type": "stream",
     "text": [
      "Linear Relationship:\n",
      "Pearson Correlation:  0.94\n",
      "Spearman Correlation: 0.94\n",
      "\n",
      "Non-Linear Relationship:\n",
      "Pearson Correlation:  0.99\n",
      "Spearman Correlation: 0.99\n"
     ]
    }
   ],
   "source": [
    "\n",
    "# Pearson and Spearman for linear relationship\n",
    "pearson_linear, _ = pearsonr(df['X'], df['Y_Linear'])\n",
    "spearman_linear, _ = spearmanr(df['X'], df['Y_Linear'])\n",
    "\n",
    "# Pearson and Spearman for non-linear relationship\n",
    "pearson_nonlinear, _ = pearsonr(df['X'], df['Y_Nonlinear'])\n",
    "spearman_nonlinear, _ = spearmanr(df['X'], df['Y_Nonlinear'])\n",
    "\n",
    "\n",
    "print(\"Linear Relationship:\")\n",
    "print(f\"Pearson Correlation:  {pearson_linear:.2f}\")\n",
    "print(f\"Spearman Correlation: {spearman_linear:.2f}\\n\")\n",
    "\n",
    "print(\"Non-Linear Relationship:\")\n",
    "print(f\"Pearson Correlation:  {pearson_nonlinear:.2f}\")\n",
    "print(f\"Spearman Correlation: {spearman_nonlinear:.2f}\")\n"
   ]
  },
  {
   "cell_type": "code",
   "execution_count": null,
   "id": "b6760182-7adf-4e1c-9d72-12e88b2360df",
   "metadata": {},
   "outputs": [],
   "source": []
  }
 ],
 "metadata": {
  "kernelspec": {
   "display_name": "Python 3 (ipykernel)",
   "language": "python",
   "name": "python3"
  },
  "language_info": {
   "codemirror_mode": {
    "name": "ipython",
    "version": 3
   },
   "file_extension": ".py",
   "mimetype": "text/x-python",
   "name": "python",
   "nbconvert_exporter": "python",
   "pygments_lexer": "ipython3",
   "version": "3.11.4"
  }
 },
 "nbformat": 4,
 "nbformat_minor": 5
}
